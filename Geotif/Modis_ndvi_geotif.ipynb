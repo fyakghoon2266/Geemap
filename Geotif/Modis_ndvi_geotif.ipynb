{
 "cells": [
  {
   "cell_type": "code",
   "execution_count": 1,
   "id": "561a3045",
   "metadata": {},
   "outputs": [],
   "source": [
    "import os\n",
    "import ee\n",
    "import geemap\n",
    "import time\n",
    "import random\n",
    "from datetime import datetime, timedelta , date\n",
    "import ipywidgets as widgets\n",
    "from IPython.display import display\n",
    "from tkinter import Tk, filedialog\n",
    "import traitlets\n",
    "from ipyfilechooser import FileChooser"
   ]
  },
  {
   "cell_type": "code",
   "execution_count": 2,
   "id": "da521271",
   "metadata": {},
   "outputs": [],
   "source": [
    "class SelectFilesButton(widgets.Button):\n",
    "    \"\"\"A file widget that leverages tkinter.filedialog.\"\"\"\n",
    "\n",
    "    def __init__(self):\n",
    "        super(SelectFilesButton, self).__init__()\n",
    "        # Add the selected_files trait\n",
    "        self.add_traits(files=traitlets.traitlets.List())\n",
    "        # Create the button.\n",
    "        self.description = \"Select Files\"\n",
    "        self.icon = \"square-o\"\n",
    "        self.style.button_color = \"orange\"\n",
    "        # Set on click behavior.\n",
    "        self.on_click(self.select_files)\n",
    "\n",
    "    @staticmethod\n",
    "    def select_files(b):\n",
    "        \"\"\"Generate instance of tkinter.filedialog.\n",
    "\n",
    "        Parameters\n",
    "        ----------\n",
    "        b : obj:\n",
    "            An instance of ipywidgets.widgets.Button \n",
    "        \"\"\"\n",
    "        # Create Tk root\n",
    "        root = Tk()\n",
    "        # Hide the main window\n",
    "        root.withdraw()\n",
    "        # Raise the root to the top of all windows.\n",
    "        root.call('wm', 'attributes', '.', '-topmost', True)\n",
    "        # List of selected fileswill be set to b.value\n",
    "        b.files = filedialog.askopenfilename(multiple=True,filetypes=[('shp','.shp')])\n",
    "\n",
    "        b.description = \"Files Selected\"\n",
    "        b.icon = \"check-square-o\"\n",
    "        b.style.button_color = \"lightgreen\""
   ]
  },
  {
   "cell_type": "code",
   "execution_count": 4,
   "id": "937412fa",
   "metadata": {},
   "outputs": [],
   "source": [
    "# After executing this line of code for the first use, you can get the authentication number linked to Google.\n",
    "#Map = geemap.Map()\n",
    "# Authenticate the Google earth engine with google account\n",
    "ee.Initialize() \n",
    "Map = geemap.Map()"
   ]
  },
  {
   "cell_type": "code",
   "execution_count": 5,
   "id": "a694278d",
   "metadata": {},
   "outputs": [
    {
     "data": {
      "application/vnd.jupyter.widget-view+json": {
       "model_id": "7967525ee1584ea3b72c1a84cdc8b765",
       "version_major": 2,
       "version_minor": 0
      },
      "text/plain": [
       "SelectFilesButton(description='Select Files', icon='square-o', style=ButtonStyle(button_color='orange'))"
      ]
     },
     "metadata": {},
     "output_type": "display_data"
    }
   ],
   "source": [
    "# give the shp file\n",
    "my_button = SelectFilesButton()\n",
    "my_button # This will display the button in the context of Jupyter Notebook"
   ]
  },
  {
   "cell_type": "code",
   "execution_count": 6,
   "id": "6740c77b",
   "metadata": {},
   "outputs": [
    {
     "data": {
      "application/vnd.jupyter.widget-view+json": {
       "model_id": "70e17a78c51c433cbbe685c1f031055d",
       "version_major": 2,
       "version_minor": 0
      },
      "text/plain": [
       "HBox(children=(DatePicker(value=None, description='Pick a Star Date'), DatePicker(value=None, description='Pic…"
      ]
     },
     "metadata": {},
     "output_type": "display_data"
    }
   ],
   "source": [
    "# give the star date and end date\n",
    "\n",
    "star = widgets.DatePicker(\n",
    "    description='Pick a Star Date',\n",
    "    disabled=False\n",
    ")\n",
    "end = widgets.DatePicker(\n",
    "    description='Pick a End Date',\n",
    "    disabled=False\n",
    ")\n",
    "\n",
    "widgets.HBox([star, end])"
   ]
  },
  {
   "cell_type": "code",
   "execution_count": 7,
   "id": "acc87a85",
   "metadata": {},
   "outputs": [
    {
     "data": {
      "application/vnd.jupyter.widget-view+json": {
       "model_id": "6a7b178c7f7e4a32b83f2a9cb7d7d054",
       "version_major": 2,
       "version_minor": 0
      },
      "text/plain": [
       "Dropdown(description='Band', options=('ndvi', 'evi', 'savi'), value='ndvi')"
      ]
     },
     "metadata": {},
     "output_type": "display_data"
    }
   ],
   "source": [
    "# give the bands\n",
    "\n",
    "band_name = widgets.Dropdown(\n",
    "options=['ndvi','evi','savi','ndwi1','ndwi2','ndwi3'],\n",
    "description='Band')\n",
    "\n",
    "band_name"
   ]
  },
  {
   "cell_type": "code",
   "execution_count": 8,
   "id": "8b58829a",
   "metadata": {},
   "outputs": [
    {
     "data": {
      "application/vnd.jupyter.widget-view+json": {
       "model_id": "712aa57279544b89b38d95b9327ace6f",
       "version_major": 2,
       "version_minor": 0
      },
      "text/plain": [
       "Dropdown(description='Frequency', options=('Year', 'Month'), value='Year')"
      ]
     },
     "metadata": {},
     "output_type": "display_data"
    }
   ],
   "source": [
    "# gine the date frequency\n",
    "\n",
    "frequency =widgets.Dropdown(\n",
    "    options=['Year','Month'],\n",
    "    value='Year',\n",
    "    description='Frequency')\n",
    "\n",
    "frequency"
   ]
  },
  {
   "cell_type": "code",
   "execution_count": 9,
   "id": "335744f5",
   "metadata": {},
   "outputs": [
    {
     "data": {
      "application/vnd.jupyter.widget-view+json": {
       "model_id": "50d0d0af716141b29a9d77ddc456a6a3",
       "version_major": 2,
       "version_minor": 0
      },
      "text/plain": [
       "FileChooser(path='C:\\Users\\Yang Hsiu\\Desktop\\satellite python code\\satellite python code\\satellite python code…"
      ]
     },
     "metadata": {},
     "output_type": "display_data"
    }
   ],
   "source": [
    "# give the output floder and flie name\n",
    "folder = FileChooser()\n",
    "display(folder)\n"
   ]
  },
  {
   "cell_type": "code",
   "execution_count": 10,
   "id": "014ea7a9",
   "metadata": {},
   "outputs": [
    {
     "data": {
      "application/vnd.jupyter.widget-view+json": {
       "model_id": "b5cd067ebd9c4c309628ac8638050bfc",
       "version_major": 2,
       "version_minor": 0
      },
      "text/plain": [
       "IntSlider(value=1000, continuous_update=False, description='Scale:', max=10000, min=500, step=100)"
      ]
     },
     "metadata": {},
     "output_type": "display_data"
    }
   ],
   "source": [
    "# give the scale number\n",
    "scale = widgets.IntSlider(\n",
    "    value=1000,\n",
    "    min=500,\n",
    "    max=10000,\n",
    "    step=100,\n",
    "    description='Scale:',\n",
    "    disabled=False,\n",
    "    continuous_update=False,\n",
    "    orientation='horizontal',\n",
    "    readout=True,\n",
    "    readout_format='d'\n",
    ")\n",
    "\n",
    "scale"
   ]
  },
  {
   "cell_type": "code",
   "execution_count": 19,
   "id": "d8d21aa2",
   "metadata": {},
   "outputs": [],
   "source": [
    "def last_day_of_month(any_day):\n",
    "    next_month = any_day.replace(day=28) + timedelta(days=4)  # this will never fail\n",
    "    return next_month - timedelta(days=next_month.day)\n",
    "\n",
    "def monthlist(begin,end):\n",
    "    #begin = datetime.datetime.strptime(begin, \"%Y-%m-%d\")\n",
    "    #end = datetime.datetime.strptime(end, \"%Y-%m-%d\")\n",
    "\n",
    "    result = []\n",
    "    while True:\n",
    "        if begin.month == 12:\n",
    "            next_month = begin.replace(year=begin.year+1,month=1, day=1)\n",
    "        else:\n",
    "            next_month = begin.replace(month=begin.month+1, day=1)\n",
    "        if next_month > end:\n",
    "            break\n",
    "        result.append ([begin.strftime(\"%Y-%m-%d\"),last_day_of_month(begin).strftime(\"%Y-%m-%d\")])\n",
    "        begin = next_month\n",
    "    result.append ([begin.strftime(\"%Y-%m-%d\"),end.strftime(\"%Y-%m-%d\")])\n",
    "    return result\n",
    "\n",
    "\n",
    "def last_day_of_year(any_day):\n",
    "    next_year = any_day.replace(year=any_day.year, month=12, day = 31)  # this will never fail\n",
    "    return next_year\n",
    "\n",
    "def yearlist(begin,end):\n",
    "    #begin = datetime.datetime.strptime(begin, \"%Y-%m-%d\")\n",
    "    #end = datetime.datetime.strptime(end, \"%Y-%m-%d\")\n",
    "\n",
    "    result = []\n",
    "    while True:\n",
    "        if begin.year < end.year:\n",
    "            next_year = begin.replace(year=begin.year+1,month=1, day=1)\n",
    "        else:\n",
    "            next_year = end\n",
    "        if next_year == end:\n",
    "            break\n",
    "        result.append ([begin.strftime(\"%Y-%m-%d\"),last_day_of_year(begin).strftime(\"%Y-%m-%d\")])\n",
    "        begin = next_year\n",
    "    result.append ([begin.strftime(\"%Y-%m-%d\"),end.strftime(\"%Y-%m-%d\")])\n",
    "    return result"
   ]
  },
  {
   "cell_type": "code",
   "execution_count": 20,
   "id": "fd9c3fcc",
   "metadata": {},
   "outputs": [],
   "source": [
    "enddate = (end.value + timedelta(days=1)).strftime(\"%Y-%m-%d\")\n",
    "stardate = star.value.strftime(\"%Y-%m-%d\")\n",
    "roi = geemap.shp_to_ee(''.join(my_button.files)).geometry()\n",
    "dateFilter = ee.Filter.date(str(stardate), str(enddate))\n",
    "#Load a MODIS collection with data.\n",
    "mcd43a4 = ee.ImageCollection(\"MODIS/006/MCD43A4\")\\\n",
    "            .select(['Nadir_Reflectance_Band1','Nadir_Reflectance_Band2','Nadir_Reflectance_Band3',\n",
    "            'Nadir_Reflectance_Band4','Nadir_Reflectance_Band5','Nadir_Reflectance_Band6',\n",
    "            'Nadir_Reflectance_Band7'],\n",
    "            ['red', 'nir', 'blue', 'green', 'swir1', 'swir2', 'swir3']);\n",
    "\n",
    "\n",
    "#Load a MODIS collection with quality data.\n",
    "mcd43a2 = ee.ImageCollection('MODIS/006/MCD43A2')\\\n",
    "            .select(['BRDF_Albedo_Band_Quality_Band1', 'BRDF_Albedo_Band_Quality_Band2', 'BRDF_Albedo_Band_Quality_Band3',\n",
    "            'BRDF_Albedo_Band_Quality_Band4', 'BRDF_Albedo_Band_Quality_Band5', 'BRDF_Albedo_Band_Quality_Band6',\n",
    "            'BRDF_Albedo_Band_Quality_Band7', 'BRDF_Albedo_LandWaterType'],\n",
    "            ['qa1', 'qa2', 'qa3', 'qa4', 'qa5', 'qa6', 'qa7', 'water']);\n",
    "\n",
    "\n",
    "    \n",
    "    \n",
    "    #Define an inner join.\n",
    "innerJoin = ee.Join.inner('NBAR', 'QA');\n",
    "\n",
    "#Specify an equals filter for image timestamps.\n",
    "filterTimeEq = ee.Filter.equals(\n",
    "  leftField ='system:time_start',\n",
    "  rightField ='system:time_start'\n",
    ");\n",
    "\n",
    "#Apply the join.\n",
    "innerJoinedMODIS = innerJoin.apply(mcd43a4, mcd43a2, filterTimeEq);"
   ]
  },
  {
   "cell_type": "code",
   "execution_count": 21,
   "id": "230f71f5",
   "metadata": {},
   "outputs": [],
   "source": [
    "# get indexes NDVI\n",
    "def getNDVI(image):\n",
    "    \n",
    "    # Normalized difference vegetation index (NDVI)\n",
    "    ndvi = image.normalizedDifference(['nir','red']).rename(\"ndvi\")\n",
    "    image = image.addBands(ndvi)\n",
    "\n",
    "    return(image)\n",
    "\n",
    "def getEVI(image):\n",
    "    evi = image.expression(\n",
    "      '2.5 * ((NIR - RED) / (NIR + 6 * RED - 7.5 * BLUE + 1))', {\n",
    "      'NIR' : image.select('nir'),\n",
    "      'RED' : image.select('red'),\n",
    "      'BLUE': image.select('blue')}).rename('evi');\n",
    "    return image.addBands(evi);\n",
    "    \n",
    "\n",
    "def getSAVI(image):\n",
    "    savi = image.expression(\n",
    "     '1.5 * (nir - red) / (nir + red + 0.5)', {\n",
    "      'nir': image.select('nir'),\n",
    "      'red': image.select('red')}).rename('savi');\n",
    "    return image.addBands(savi);\n",
    "\n",
    "# get indexes NDWI1\n",
    "def getNDWI1(image):\n",
    "    \n",
    "    # Normalized difference vegetation index (NDWI1) (Xnir - Xswir1)/(Xnir + Xswir1)\n",
    "    ndwi1 = image.normalizedDifference(['nir','swir1']).rename(\"ndwi1\")\n",
    "    image = image.addBands(ndwi1)\n",
    "\n",
    "    return(image)\n",
    "\n",
    "# get indexes NDWI2\n",
    "def getNDWI2(image):\n",
    "    \n",
    "    # Normalized difference vegetation index (NDWI2) (Xnir - Xswir2)/(Xnir + Xswir2)\n",
    "    ndwi2 = image.normalizedDifference(['nir','swir2']).rename(\"ndwi2\")\n",
    "    image = image.addBands(ndwi2)\n",
    "\n",
    "    return(image)\n",
    "\n",
    "# get indexes NDWI3\n",
    "def getNDWI3(image):\n",
    "    \n",
    "    # Normalized difference vegetation index (NDWI3) (Xgreen - Xnir)/(Xgreen + Xnir)\n",
    "    ndwi3 = image.normalizedDifference(['green','nir']).rename(\"ndwi3\")\n",
    "    image = image.addBands(ndwi3)\n",
    "\n",
    "    return(image)\n",
    "\n",
    "\n",
    "def addQABands(image):\n",
    "    nbar = ee.Image(image.get('NBAR'));\n",
    "    qa = ee.Image(image.get('QA')).select(['qa2']);\n",
    "    water = ee.Image(image.get('QA')).select(['water']);\n",
    "    return(nbar.addBands([qa, water]));\n",
    "\n",
    "def Modis_filter(image):\n",
    "    qaband = image.select(['qa2']); #Right now, only using QA info for the NIR band\n",
    "    wband = image.select(['water']);\n",
    "    qamask = qaband.lte(2) and (wband.eq(1));\n",
    "    nir_r = image.select('nir').multiply(0.0001).rename('nir');\n",
    "    red_r = image.select('red').multiply(0.0001).rename('red');\n",
    "    swir1_r = image.select('swir1').multiply(0.0001).rename('swir1');\n",
    "    swir2_r = image.select('swir2').multiply(0.0001).rename('swir2');\n",
    "    blue_r = image.select('blue').multiply(0.0001).rename('blue');\n",
    "    return image.addBands(nir_r).addBands(red_r).addBands(swir1_r).addBands(swir2_r).addBands(blue_r).updateMask(qamask)\n"
   ]
  },
  {
   "cell_type": "code",
   "execution_count": 22,
   "id": "f0132874",
   "metadata": {},
   "outputs": [],
   "source": [
    "#Merge two layers\n",
    "mergedCol = ee.ImageCollection(innerJoinedMODIS.map(addQABands))\n",
    "Modis_filter_vars = mergedCol.map(Modis_filter)"
   ]
  },
  {
   "cell_type": "code",
   "execution_count": 23,
   "id": "a135005f",
   "metadata": {},
   "outputs": [],
   "source": [
    "def geotif(time_list):\n",
    "   \n",
    "    for i in range(0,len(time_list)):\n",
    "        star_time = time.time()\n",
    "    \n",
    "        dataset = ee.ImageCollection(Modis_filter_vars) \\\n",
    "                    .filterDate(time_list[i][0],datetime.strptime(time_list[i][1],\"%Y-%m-%d\")+ timedelta(days=1)) \\\n",
    "                    .filterBounds(roi) \\\n",
    "                    .map(getNDVI) \\\n",
    "                    .map(getEVI) \\\n",
    "                    .map(getSAVI) \\\n",
    "                    .map(getNDWI1) \\\n",
    "                    .map(getNDWI2) \\\n",
    "                    .map(getNDWI3) \\\n",
    "                    .select(band_name.value) \\\n",
    "                    .mean()\n",
    "    \n",
    "        image = dataset.clip(roi).unmask()\n",
    "        filename = os.path.join(os.path.expanduser(folder.selected) + '_{}.tif'.format(time_list[i]))\n",
    "        geemap.ee_export_image(\n",
    "            image, filename=filename, scale=scale.value, region=roi, file_per_band=False\n",
    "                                )\n",
    "    \n",
    "    "
   ]
  },
  {
   "cell_type": "code",
   "execution_count": null,
   "id": "2df1afc6",
   "metadata": {},
   "outputs": [
    {
     "name": "stdout",
     "output_type": "stream",
     "text": [
      "Generating URL ...\n",
      "Downloading data from https://earthengine.googleapis.com/v1alpha/projects/earthengine-legacy/thumbnails/932a3064bb3de120bd6783a2bd336fe6-0a15fef4f446c726ec661a3f4aa17c39:getPixels\n",
      "Please wait ...\n"
     ]
    }
   ],
   "source": [
    "if 'Year' in frequency.value.strip():\n",
    "    time_list = yearlist(star.value, end.value)\n",
    "    geotif(time_list)\n",
    "else:\n",
    "    pass\n",
    "if \"Month\" in frequency.value.strip():\n",
    "    time_list =monthlist(star.value, end.value)\n",
    "    geotif(time_list)\n",
    "else:\n",
    "    pass"
   ]
  }
 ],
 "metadata": {
  "hide_input": false,
  "kernelspec": {
   "display_name": "Python 3 (ipykernel)",
   "language": "python",
   "name": "python3"
  },
  "language_info": {
   "codemirror_mode": {
    "name": "ipython",
    "version": 3
   },
   "file_extension": ".py",
   "mimetype": "text/x-python",
   "name": "python",
   "nbconvert_exporter": "python",
   "pygments_lexer": "ipython3",
   "version": "3.8.12"
  },
  "toc": {
   "base_numbering": 1,
   "nav_menu": {},
   "number_sections": true,
   "sideBar": true,
   "skip_h1_title": false,
   "title_cell": "Table of Contents",
   "title_sidebar": "Contents",
   "toc_cell": false,
   "toc_position": {},
   "toc_section_display": true,
   "toc_window_display": false
  }
 },
 "nbformat": 4,
 "nbformat_minor": 5
}
