{
 "cells": [
  {
   "cell_type": "code",
   "execution_count": 1,
   "id": "3d062ae9",
   "metadata": {},
   "outputs": [],
   "source": [
    "import os\n",
    "import ee\n",
    "import geemap\n",
    "import time\n",
    "import random\n",
    "from datetime import datetime, timedelta , date\n",
    "import ipywidgets as widgets\n",
    "from IPython.display import display\n",
    "from tkinter import Tk, filedialog\n",
    "import traitlets\n",
    "from ipyfilechooser import FileChooser"
   ]
  },
  {
   "cell_type": "code",
   "execution_count": 2,
   "id": "dc30aea2",
   "metadata": {},
   "outputs": [],
   "source": [
    "class SelectFilesButton(widgets.Button):\n",
    "    \"\"\"A file widget that leverages tkinter.filedialog.\"\"\"\n",
    "\n",
    "    def __init__(self):\n",
    "        super(SelectFilesButton, self).__init__()\n",
    "        # Add the selected_files trait\n",
    "        self.add_traits(files=traitlets.traitlets.List())\n",
    "        # Create the button.\n",
    "        self.description = \"Select Files\"\n",
    "        self.icon = \"square-o\"\n",
    "        self.style.button_color = \"orange\"\n",
    "        # Set on click behavior.\n",
    "        self.on_click(self.select_files)\n",
    "\n",
    "    @staticmethod\n",
    "    def select_files(b):\n",
    "        \"\"\"Generate instance of tkinter.filedialog.\n",
    "\n",
    "        Parameters\n",
    "        ----------\n",
    "        b : obj:\n",
    "            An instance of ipywidgets.widgets.Button \n",
    "        \"\"\"\n",
    "        # Create Tk root\n",
    "        root = Tk()\n",
    "        # Hide the main window\n",
    "        root.withdraw()\n",
    "        # Raise the root to the top of all windows.\n",
    "        root.call('wm', 'attributes', '.', '-topmost', True)\n",
    "        # List of selected fileswill be set to b.value\n",
    "        b.files = filedialog.askopenfilename(multiple=True,filetypes=[('shp','.shp')])\n",
    "\n",
    "        b.description = \"Files Selected\"\n",
    "        b.icon = \"check-square-o\"\n",
    "        b.style.button_color = \"lightgreen\""
   ]
  },
  {
   "cell_type": "code",
   "execution_count": 3,
   "id": "87090dcd",
   "metadata": {},
   "outputs": [],
   "source": [
    "# After executing this line of code for the first use, you can get the authentication number linked to Google.\n",
    "#Map = geemap.Map()\n",
    "# Authenticate the Google earth engine with google account\n",
    "ee.Initialize() \n",
    "Map = geemap.Map()"
   ]
  },
  {
   "cell_type": "code",
   "execution_count": 4,
   "id": "ddeca4be",
   "metadata": {},
   "outputs": [
    {
     "data": {
      "application/vnd.jupyter.widget-view+json": {
       "model_id": "cf5db6b75de1474aae125d6ffbfa2fb0",
       "version_major": 2,
       "version_minor": 0
      },
      "text/plain": [
       "SelectFilesButton(description='Select Files', icon='square-o', style=ButtonStyle(button_color='orange'))"
      ]
     },
     "metadata": {},
     "output_type": "display_data"
    }
   ],
   "source": [
    "# give the shp file\n",
    "my_button = SelectFilesButton()\n",
    "my_button # This will display the button in the context of Jupyter Notebook"
   ]
  },
  {
   "cell_type": "code",
   "execution_count": 5,
   "id": "ea53f326",
   "metadata": {},
   "outputs": [
    {
     "data": {
      "application/vnd.jupyter.widget-view+json": {
       "model_id": "38b79ac17e284d3d9d32cd7c6f5bd884",
       "version_major": 2,
       "version_minor": 0
      },
      "text/plain": [
       "HBox(children=(DatePicker(value=None, description='Pick a Star Date'), DatePicker(value=None, description='Pic…"
      ]
     },
     "metadata": {},
     "output_type": "display_data"
    }
   ],
   "source": [
    "# give the star date and end date\n",
    "\n",
    "star = widgets.DatePicker(\n",
    "    description='Pick a Star Date',\n",
    "    disabled=False\n",
    ")\n",
    "end = widgets.DatePicker(\n",
    "    description='Pick a End Date',\n",
    "    disabled=False\n",
    ")\n",
    "\n",
    "widgets.HBox([star, end])"
   ]
  },
  {
   "cell_type": "code",
   "execution_count": 6,
   "id": "b15791d1",
   "metadata": {},
   "outputs": [
    {
     "data": {
      "application/vnd.jupyter.widget-view+json": {
       "model_id": "6356b70b15bb4024b3d7da74dafb4125",
       "version_major": 2,
       "version_minor": 0
      },
      "text/plain": [
       "Dropdown(description='Band', options=('ndvi',), value='ndvi')"
      ]
     },
     "metadata": {},
     "output_type": "display_data"
    }
   ],
   "source": [
    "# give the bands\n",
    "\n",
    "band_name = widgets.Dropdown(\n",
    "options=['ndvi'],\n",
    "description='Band')\n",
    "\n",
    "band_name"
   ]
  },
  {
   "cell_type": "code",
   "execution_count": 7,
   "id": "556ea9bf",
   "metadata": {},
   "outputs": [
    {
     "data": {
      "application/vnd.jupyter.widget-view+json": {
       "model_id": "26a87b904a2a470b83b5bb43e0f7665d",
       "version_major": 2,
       "version_minor": 0
      },
      "text/plain": [
       "Dropdown(description='Frequency', options=('Year', 'Month'), value='Year')"
      ]
     },
     "metadata": {},
     "output_type": "display_data"
    }
   ],
   "source": [
    "# gine the date frequency\n",
    "\n",
    "frequency =widgets.Dropdown(\n",
    "    options=['Year','Month'],\n",
    "    value='Year',\n",
    "    description='Frequency')\n",
    "\n",
    "frequency"
   ]
  },
  {
   "cell_type": "code",
   "execution_count": 8,
   "id": "e621cf85",
   "metadata": {},
   "outputs": [
    {
     "data": {
      "application/vnd.jupyter.widget-view+json": {
       "model_id": "063bb6986af84ac291ffccf51ea46f16",
       "version_major": 2,
       "version_minor": 0
      },
      "text/plain": [
       "FileChooser(path='C:\\Users\\Yang Hsiu\\Desktop\\satellite python code\\satellite python code\\satellite python code…"
      ]
     },
     "metadata": {},
     "output_type": "display_data"
    }
   ],
   "source": [
    "# give the output floder and flie name\n",
    "folder = FileChooser()\n",
    "display(folder)\n"
   ]
  },
  {
   "cell_type": "code",
   "execution_count": 9,
   "id": "7ee522e8",
   "metadata": {},
   "outputs": [
    {
     "data": {
      "application/vnd.jupyter.widget-view+json": {
       "model_id": "2cb71d4e668f468294c4741525d6555d",
       "version_major": 2,
       "version_minor": 0
      },
      "text/plain": [
       "IntSlider(value=1000, continuous_update=False, description='Scale:', max=10000, min=500, step=100)"
      ]
     },
     "metadata": {},
     "output_type": "display_data"
    }
   ],
   "source": [
    "# give the scale number\n",
    "scale = widgets.IntSlider(\n",
    "    value=1000,\n",
    "    min=500,\n",
    "    max=10000,\n",
    "    step=100,\n",
    "    description='Scale:',\n",
    "    disabled=False,\n",
    "    continuous_update=False,\n",
    "    orientation='horizontal',\n",
    "    readout=True,\n",
    "    readout_format='d'\n",
    ")\n",
    "\n",
    "scale"
   ]
  },
  {
   "cell_type": "code",
   "execution_count": 10,
   "id": "5991d3a3",
   "metadata": {},
   "outputs": [
    {
     "data": {
      "application/vnd.jupyter.widget-view+json": {
       "model_id": "93736198a8d84eb2a33ae92ee93c25f7",
       "version_major": 2,
       "version_minor": 0
      },
      "text/plain": [
       "IntSlider(value=20, continuous_update=False, description='CLOUDY_PIXEL_PERCENTAGE:', step=10)"
      ]
     },
     "metadata": {},
     "output_type": "display_data"
    }
   ],
   "source": [
    "# give CLOUDY_PIXEL_PERCENTAGE\n",
    "\n",
    "CLOUDY_PIXEL_PERCENTAGE = widgets.IntSlider(\n",
    "    value=20,\n",
    "    min=0,\n",
    "    max=100,\n",
    "    step=10,\n",
    "    description='CLOUDY_PIXEL_PERCENTAGE:',\n",
    "    disabled=False,\n",
    "    continuous_update=False,\n",
    "    orientation='horizontal',\n",
    "    readout=True,\n",
    "    readout_format='d'\n",
    ")\n",
    "\n",
    "CLOUDY_PIXEL_PERCENTAGE\n"
   ]
  },
  {
   "cell_type": "code",
   "execution_count": 11,
   "id": "81316638",
   "metadata": {},
   "outputs": [],
   "source": [
    "roi = geemap.shp_to_ee(''.join(my_button.files)).geometry()"
   ]
  },
  {
   "cell_type": "code",
   "execution_count": 12,
   "id": "1ef2651f",
   "metadata": {},
   "outputs": [],
   "source": [
    "def last_day_of_month(any_day):\n",
    "    next_month = any_day.replace(day=28) + timedelta(days=4)  # this will never fail\n",
    "    return next_month - timedelta(days=next_month.day)\n",
    "\n",
    "def monthlist(begin,end):\n",
    "    #begin = datetime.datetime.strptime(begin, \"%Y-%m-%d\")\n",
    "    #end = datetime.datetime.strptime(end, \"%Y-%m-%d\")\n",
    "\n",
    "    result = []\n",
    "    while True:\n",
    "        if begin.month == 12:\n",
    "            next_month = begin.replace(year=begin.year+1,month=1, day=1)\n",
    "        else:\n",
    "            next_month = begin.replace(month=begin.month+1, day=1)\n",
    "        if next_month > end:\n",
    "            break\n",
    "        result.append ([begin.strftime(\"%Y-%m-%d\"),last_day_of_month(begin).strftime(\"%Y-%m-%d\")])\n",
    "        begin = next_month\n",
    "    result.append ([begin.strftime(\"%Y-%m-%d\"),end.strftime(\"%Y-%m-%d\")])\n",
    "    return result\n",
    "\n",
    "\n",
    "def last_day_of_year(any_day):\n",
    "    next_year = any_day.replace(year=any_day.year, month=12, day = 31)  # this will never fail\n",
    "    return next_year\n",
    "\n",
    "def yearlist(begin,end):\n",
    "    #begin = datetime.datetime.strptime(begin, \"%Y-%m-%d\")\n",
    "    #end = datetime.datetime.strptime(end, \"%Y-%m-%d\")\n",
    "\n",
    "    result = []\n",
    "    while True:\n",
    "        if begin.year < end.year:\n",
    "            next_year = begin.replace(year=begin.year+1,month=1, day=1)\n",
    "        else:\n",
    "            next_year = end\n",
    "        if next_year == end:\n",
    "            break\n",
    "        result.append ([begin.strftime(\"%Y-%m-%d\"),last_day_of_year(begin).strftime(\"%Y-%m-%d\")])\n",
    "        begin = next_year\n",
    "    result.append ([begin.strftime(\"%Y-%m-%d\"),end.strftime(\"%Y-%m-%d\")])\n",
    "    return result"
   ]
  },
  {
   "cell_type": "code",
   "execution_count": 13,
   "id": "280b29d4",
   "metadata": {},
   "outputs": [],
   "source": [
    "#name of bands\n",
    "inBands = ee.List(['QA60','B4','B8']);\n",
    "outBands = ee.List(['QA60','red','nir']);\n",
    " \n",
    "CloudCoverMax = 20\n",
    "\n",
    "\n",
    "\n",
    "def maskS2clouds(image):\n",
    "    qa = image.select('QA60');\n",
    "    cloudBitMask = 1 << 10;\n",
    "    cirrusBitMask = 1 << 11;\n",
    "    mask = qa.bitwiseAnd(cloudBitMask).eq(0) and (qa.bitwiseAnd(cirrusBitMask).eq(0));\n",
    "    return image.updateMask(mask).divide(10000)\n",
    "\n",
    "# #function to get the data\n",
    "# def importData(studyArea,startDate,endDate):\n",
    " \n",
    "#     # Get Sentinel-2 data\n",
    "#     s2s =(ee.ImageCollection('COPERNICUS/S2')\n",
    "#           .filter(ee.Filter.date(startDate,endDate))\n",
    "#           .filterBounds(studyArea)\n",
    "#           .filter(ee.Filter.lt('CLOUDY_PIXEL_PERCENTAGE',CloudCoverMax))\n",
    "#           .filter(ee.Filter.lt('CLOUD_COVERAGE_ASSESSMENT',CloudCoverMax)))\n",
    "    \n",
    "#     #sentinel bands are in scale of 0.0001\n",
    "#     s2s = s2s.select(inBands,outBands)\n",
    "    \n",
    "#     return s2s\n"
   ]
  },
  {
   "cell_type": "code",
   "execution_count": 14,
   "id": "9db498a1",
   "metadata": {},
   "outputs": [],
   "source": [
    "# get indexes\n",
    "def getNDVI(image):\n",
    "    \n",
    "    # Normalized difference vegetation index (NDVI)\n",
    "    ndvi = image.normalizedDifference(['B8','B4']).rename(\"ndvi\")\n",
    "    image = image.addBands(ndvi)\n",
    "\n",
    "    return(image)"
   ]
  },
  {
   "cell_type": "code",
   "execution_count": 15,
   "id": "64ce4a82",
   "metadata": {},
   "outputs": [],
   "source": [
    "def geotif(time_list):\n",
    "   \n",
    "    for i in range(0,len(time_list)):\n",
    "        star_time = time.time()\n",
    "        \n",
    "        dataset = ee.ImageCollection('COPERNICUS/S2') \\\n",
    "                        .filterDate(time_list[i][0],datetime.strptime(time_list[i][1],\"%Y-%m-%d\")+ timedelta(days=1)) \\\n",
    "                        .filter(ee.Filter.lt('CLOUDY_PIXEL_PERCENTAGE', CLOUDY_PIXEL_PERCENTAGE.value)) \\\n",
    "                        .map(maskS2clouds) \\\n",
    "                        .map(getNDVI) \\\n",
    "                        .select(band_name.value) \\\n",
    "                        .mean()\n",
    "        \n",
    "        image = dataset.clip(roi).unmask()\n",
    "        filename = os.path.join(os.path.expanduser(folder.selected) + '_{}.tif'.format(time_list[i]))\n",
    "        geemap.ee_export_image(\n",
    "            image, filename=filename, scale=scale.value, region=roi, file_per_band=False\n",
    "                                )"
   ]
  },
  {
   "cell_type": "code",
   "execution_count": 16,
   "id": "d4718319",
   "metadata": {},
   "outputs": [
    {
     "name": "stdout",
     "output_type": "stream",
     "text": [
      "Generating URL ...\n",
      "Downloading data from https://earthengine.googleapis.com/v1alpha/projects/earthengine-legacy/thumbnails/150a1672e7af96ead440929601fb9472-930787339c64b31fa01aa21a022a1479:getPixels\n",
      "Please wait ...\n",
      "Data downloaded to C:\\Users\\Yang Hsiu\\Desktop\\plot\\S222222_['2021-01-01', '2021-12-31'].tif\n"
     ]
    }
   ],
   "source": [
    "if 'Year' in frequency.value.strip():\n",
    "    time_list = yearlist(star.value, end.value)\n",
    "    geotif(time_list)\n",
    "else:\n",
    "    pass\n",
    "if \"Month\" in frequency.value.strip():\n",
    "    time_list =monthlist(star.value, end.value)\n",
    "    geotif(time_list)\n",
    "else:\n",
    "    pass"
   ]
  }
 ],
 "metadata": {
  "hide_input": false,
  "kernelspec": {
   "display_name": "Python 3",
   "language": "python",
   "name": "python3"
  },
  "language_info": {
   "codemirror_mode": {
    "name": "ipython",
    "version": 3
   },
   "file_extension": ".py",
   "mimetype": "text/x-python",
   "name": "python",
   "nbconvert_exporter": "python",
   "pygments_lexer": "ipython3",
   "version": "3.8.10"
  },
  "toc": {
   "base_numbering": 1,
   "nav_menu": {},
   "number_sections": true,
   "sideBar": true,
   "skip_h1_title": false,
   "title_cell": "Table of Contents",
   "title_sidebar": "Contents",
   "toc_cell": false,
   "toc_position": {},
   "toc_section_display": true,
   "toc_window_display": false
  }
 },
 "nbformat": 4,
 "nbformat_minor": 5
}
