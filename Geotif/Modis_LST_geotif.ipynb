{
 "cells": [
  {
   "cell_type": "code",
   "execution_count": 1,
   "id": "c843b198",
   "metadata": {},
   "outputs": [],
   "source": [
    "import os\n",
    "import ee\n",
    "import geemap\n",
    "import time\n",
    "import random\n",
    "from datetime import datetime, timedelta , date\n",
    "import ipywidgets as widgets\n",
    "from IPython.display import display\n",
    "from tkinter import Tk, filedialog\n",
    "import traitlets\n",
    "from ipyfilechooser import FileChooser"
   ]
  },
  {
   "cell_type": "code",
   "execution_count": 2,
   "id": "725e8610",
   "metadata": {},
   "outputs": [],
   "source": [
    "class SelectFilesButton(widgets.Button):\n",
    "    \"\"\"A file widget that leverages tkinter.filedialog.\"\"\"\n",
    "\n",
    "    def __init__(self):\n",
    "        super(SelectFilesButton, self).__init__()\n",
    "        # Add the selected_files trait\n",
    "        self.add_traits(files=traitlets.traitlets.List())\n",
    "        # Create the button.\n",
    "        self.description = \"Select Files\"\n",
    "        self.icon = \"square-o\"\n",
    "        self.style.button_color = \"orange\"\n",
    "        # Set on click behavior.\n",
    "        self.on_click(self.select_files)\n",
    "\n",
    "    @staticmethod\n",
    "    def select_files(b):\n",
    "        \"\"\"Generate instance of tkinter.filedialog.\n",
    "\n",
    "        Parameters\n",
    "        ----------\n",
    "        b : obj:\n",
    "            An instance of ipywidgets.widgets.Button \n",
    "        \"\"\"\n",
    "        # Create Tk root\n",
    "        root = Tk()\n",
    "        # Hide the main window\n",
    "        root.withdraw()\n",
    "        # Raise the root to the top of all windows.\n",
    "        root.call('wm', 'attributes', '.', '-topmost', True)\n",
    "        # List of selected fileswill be set to b.value\n",
    "        b.files = filedialog.askopenfilename(multiple=True,filetypes=[('shp','.shp')])\n",
    "\n",
    "        b.description = \"Files Selected\"\n",
    "        b.icon = \"check-square-o\"\n",
    "        b.style.button_color = \"lightgreen\""
   ]
  },
  {
   "cell_type": "code",
   "execution_count": 3,
   "id": "dac857cf",
   "metadata": {},
   "outputs": [],
   "source": [
    "# After executing this line of code for the first use, you can get the authentication number linked to Google.\n",
    "#Map = geemap.Map()\n",
    "# Authenticate the Google earth engine with google account\n",
    "ee.Initialize() \n",
    "Map = geemap.Map()"
   ]
  },
  {
   "cell_type": "code",
   "execution_count": 4,
   "id": "8cac184a",
   "metadata": {},
   "outputs": [
    {
     "data": {
      "application/vnd.jupyter.widget-view+json": {
       "model_id": "ca24334f89ef4cdea51b3973c7d3ed1f",
       "version_major": 2,
       "version_minor": 0
      },
      "text/plain": [
       "SelectFilesButton(description='Select Files', icon='square-o', style=ButtonStyle(button_color='orange'))"
      ]
     },
     "metadata": {},
     "output_type": "display_data"
    }
   ],
   "source": [
    "# give the shp file\n",
    "my_button = SelectFilesButton()\n",
    "my_button # This will display the button in the context of Jupyter Notebook"
   ]
  },
  {
   "cell_type": "code",
   "execution_count": 46,
   "id": "23392de7",
   "metadata": {},
   "outputs": [
    {
     "data": {
      "application/vnd.jupyter.widget-view+json": {
       "model_id": "193d9c7cf34a4f5f82a32cd90e4c5680",
       "version_major": 2,
       "version_minor": 0
      },
      "text/plain": [
       "HBox(children=(DatePicker(value=None, description='Pick a Star Date'), DatePicker(value=None, description='Pic…"
      ]
     },
     "metadata": {},
     "output_type": "display_data"
    }
   ],
   "source": [
    "# give the star date and end date\n",
    "\n",
    "star = widgets.DatePicker(\n",
    "    description='Pick a Star Date',\n",
    "    disabled=False\n",
    ")\n",
    "end = widgets.DatePicker(\n",
    "    description='Pick a End Date',\n",
    "    disabled=False\n",
    ")\n",
    "\n",
    "widgets.HBox([star, end])"
   ]
  },
  {
   "cell_type": "code",
   "execution_count": 23,
   "id": "00e47f0b",
   "metadata": {},
   "outputs": [
    {
     "data": {
      "application/vnd.jupyter.widget-view+json": {
       "model_id": "284f8b1205bb4a9e8964b6651d0d0a38",
       "version_major": 2,
       "version_minor": 0
      },
      "text/plain": [
       "Dropdown(description='Band', options=('LST_Day', 'LST_Night', 'LST_Mean'), value='LST_Day')"
      ]
     },
     "metadata": {},
     "output_type": "display_data"
    }
   ],
   "source": [
    "# give the bands\n",
    "\n",
    "band_name = widgets.Dropdown(\n",
    "options=['LST_Day','LST_Night','LST_Mean'],\n",
    "description='Band')\n",
    "\n",
    "band_name"
   ]
  },
  {
   "cell_type": "code",
   "execution_count": 24,
   "id": "9238a18e",
   "metadata": {},
   "outputs": [
    {
     "data": {
      "application/vnd.jupyter.widget-view+json": {
       "model_id": "a9c56c12986e4051a3eeec0eea234b26",
       "version_major": 2,
       "version_minor": 0
      },
      "text/plain": [
       "Dropdown(description='Frequency', options=('Year', 'Month'), value='Year')"
      ]
     },
     "metadata": {},
     "output_type": "display_data"
    }
   ],
   "source": [
    "# gine the date frequency\n",
    "\n",
    "frequency =widgets.Dropdown(\n",
    "    options=['Year','Month'],\n",
    "    value='Year',\n",
    "    description='Frequency')\n",
    "\n",
    "frequency"
   ]
  },
  {
   "cell_type": "code",
   "execution_count": 25,
   "id": "7f23cc5e",
   "metadata": {},
   "outputs": [
    {
     "data": {
      "application/vnd.jupyter.widget-view+json": {
       "model_id": "5207b3c3e3c94009a108757062ba3a56",
       "version_major": 2,
       "version_minor": 0
      },
      "text/plain": [
       "FileChooser(path='C:\\Users\\USER\\Desktop\\satellite python code\\satellite python code\\Geotif', filename='', titl…"
      ]
     },
     "metadata": {},
     "output_type": "display_data"
    }
   ],
   "source": [
    "# give the output floder and flie name\n",
    "folder = FileChooser()\n",
    "display(folder)\n"
   ]
  },
  {
   "cell_type": "code",
   "execution_count": 26,
   "id": "f829fff8",
   "metadata": {},
   "outputs": [
    {
     "data": {
      "application/vnd.jupyter.widget-view+json": {
       "model_id": "2f8565792bce431baeac6793bd1e59fc",
       "version_major": 2,
       "version_minor": 0
      },
      "text/plain": [
       "IntSlider(value=1000, continuous_update=False, description='Scale:', max=10000, min=500, step=100)"
      ]
     },
     "metadata": {},
     "output_type": "display_data"
    }
   ],
   "source": [
    "# give the scale number\n",
    "scale = widgets.IntSlider(\n",
    "    value=1000,\n",
    "    min=500,\n",
    "    max=10000,\n",
    "    step=100,\n",
    "    description='Scale:',\n",
    "    disabled=False,\n",
    "    continuous_update=False,\n",
    "    orientation='horizontal',\n",
    "    readout=True,\n",
    "    readout_format='d'\n",
    ")\n",
    "\n",
    "scale"
   ]
  },
  {
   "cell_type": "code",
   "execution_count": 27,
   "id": "ce8b5554",
   "metadata": {},
   "outputs": [],
   "source": [
    "roi = geemap.shp_to_ee(''.join(my_button.files)).geometry()"
   ]
  },
  {
   "cell_type": "code",
   "execution_count": 28,
   "id": "9d1f9333",
   "metadata": {},
   "outputs": [],
   "source": [
    "def last_day_of_month(any_day):\n",
    "    next_month = any_day.replace(day=28) + timedelta(days=4)  # this will never fail\n",
    "    return next_month - timedelta(days=next_month.day)\n",
    "\n",
    "def monthlist(begin,end):\n",
    "    #begin = datetime.datetime.strptime(begin, \"%Y-%m-%d\")\n",
    "    #end = datetime.datetime.strptime(end, \"%Y-%m-%d\")\n",
    "\n",
    "    result = []\n",
    "    while True:\n",
    "        if begin.month == 12:\n",
    "            next_month = begin.replace(year=begin.year+1,month=1, day=1)\n",
    "        else:\n",
    "            next_month = begin.replace(month=begin.month+1, day=1)\n",
    "        if next_month > end:\n",
    "            break\n",
    "        result.append ([begin.strftime(\"%Y-%m-%d\"),last_day_of_month(begin).strftime(\"%Y-%m-%d\")])\n",
    "        begin = next_month\n",
    "    result.append ([begin.strftime(\"%Y-%m-%d\"),end.strftime(\"%Y-%m-%d\")])\n",
    "    return result\n",
    "\n",
    "\n",
    "def last_day_of_year(any_day):\n",
    "    next_year = any_day.replace(year=any_day.year, month=12, day = 31)  # this will never fail\n",
    "    return next_year\n",
    "\n",
    "def yearlist(begin,end):\n",
    "    #begin = datetime.datetime.strptime(begin, \"%Y-%m-%d\")\n",
    "    #end = datetime.datetime.strptime(end, \"%Y-%m-%d\")\n",
    "\n",
    "    result = []\n",
    "    while True:\n",
    "        if begin.year < end.year:\n",
    "            next_year = begin.replace(year=begin.year+1,month=1, day=1)\n",
    "        else:\n",
    "            next_year = end\n",
    "        if next_year == end:\n",
    "            break\n",
    "        result.append ([begin.strftime(\"%Y-%m-%d\"),last_day_of_year(begin).strftime(\"%Y-%m-%d\")])\n",
    "        begin = next_year\n",
    "    result.append ([begin.strftime(\"%Y-%m-%d\"),end.strftime(\"%Y-%m-%d\")])\n",
    "    return result"
   ]
  },
  {
   "cell_type": "code",
   "execution_count": 29,
   "id": "1f108c54",
   "metadata": {},
   "outputs": [],
   "source": [
    "# This is the function after recalculating the bands\n",
    "\n",
    "def lst_filter(image):\n",
    "    \n",
    "    qaday = image.select(['QC_Day']); \n",
    "    qanight = image.select(['QC_Night']); \n",
    "    dayshift = qaday.rightShift(6);\n",
    "    nightshift = qanight.rightShift(6);\n",
    "    daymask = dayshift.lte(2);\n",
    "    nightmask = nightshift.lte(2);\n",
    "    #dayshift1 = qaday.leftShift(6);\n",
    "    #dayshift2 = qaday.rightShift(6);\n",
    "    #daymask = dayshift2.eq(0);\n",
    "    #nightshift1 = qanight.leftShift(6);\n",
    "    #nightshift2 = qanight.rightShift(6);\n",
    "    #nightmask = nightshift2.eq(0);  \n",
    "    outimage = ee.Image(image.select(['LST_Day_1km', 'LST_Night_1km']));\n",
    "    outmask = ee.Image([daymask, nightmask]);\n",
    "    return outimage.updateMask(outmask); \n",
    "\n",
    "def lst_day(image):\n",
    "    \n",
    "    LST_Day = image.select('LST_Day_1km').multiply(0.02).subtract(273.15).rename(\"LST_Day\")\n",
    "    image = image.addBands(LST_Day)\n",
    "\n",
    "    return(image)\n",
    "\n",
    "def lst_night(image):\n",
    "    \n",
    "    LST_Night = image.select('LST_Night_1km').multiply(0.02).subtract(273.15).rename(\"LST_Night\")\n",
    "    image = image.addBands(LST_Night)\n",
    "\n",
    "    return(image)\n",
    "\n",
    "def lst_mean(image):\n",
    "    LST_Mean = image.expression(\n",
    "    '(day + night) / 2', {\n",
    "    'day': image.select('LST_Day'),\n",
    "    'night': image.select('LST_Night')}).rename('LST_Mean');\n",
    "\n",
    "    return image.addBands(LST_Mean);"
   ]
  },
  {
   "cell_type": "code",
   "execution_count": 30,
   "id": "cc1c2024",
   "metadata": {},
   "outputs": [],
   "source": [
    "def geotif(time_list):\n",
    "   \n",
    "    for i in range(0,len(time_list)):\n",
    "        star_time = time.time()\n",
    "        \n",
    "        dataset = ee.ImageCollection(\"MODIS/061/MOD11A2\") \\\n",
    "                      .filterDate(time_list[i][0],datetime.strptime(time_list[i][1],\"%Y-%m-%d\")+ timedelta(days=1)) \\\n",
    "                      .filterBounds(roi) \\\n",
    "                      .map(lst_filter) \\\n",
    "                      .map(lst_day) \\\n",
    "                      .map(lst_night) \\\n",
    "                      .map(lst_mean) \\\n",
    "                      .select(band_name.value) \\\n",
    "                      .mean()\n",
    "    \n",
    "        image = dataset.clip(roi).unmask()\n",
    "        filename = os.path.join(os.path.expanduser(folder.selected) + '_{}.tif'.format(time_list[i]))\n",
    "        geemap.ee_export_image(\n",
    "            image, filename=filename, scale=scale.value, region=roi, file_per_band=False\n",
    "                                )"
   ]
  },
  {
   "cell_type": "code",
   "execution_count": 35,
   "id": "5492cf8c",
   "metadata": {},
   "outputs": [
    {
     "name": "stdout",
     "output_type": "stream",
     "text": [
      "Generating URL ...\n",
      "Downloading data from https://earthengine.googleapis.com/v1alpha/projects/earthengine-legacy/thumbnails/23204ed82ace821ca60095327026fe69-4517b5ca194c9cf57f48a25529f27c39:getPixels\n",
      "Please wait ...\n",
      "Data downloaded to D:\\5566_['2020-01-01', '2020-01-31'].tif\n",
      "Generating URL ...\n",
      "Downloading data from https://earthengine.googleapis.com/v1alpha/projects/earthengine-legacy/thumbnails/cf309debbc97b829c6413a261b5f4df3-4ff8294f68524bd071f2348ac9398e30:getPixels\n",
      "Please wait ...\n",
      "Data downloaded to D:\\5566_['2020-02-01', '2020-02-11'].tif\n"
     ]
    }
   ],
   "source": [
    "if 'Year' in frequency.value.strip():\n",
    "    time_list = yearlist(star.value, end.value)\n",
    "    geotif(time_list)\n",
    "else:\n",
    "    pass\n",
    "if \"Month\" in frequency.value.strip():\n",
    "    time_list =monthlist(star.value, end.value)\n",
    "    geotif(time_list)\n",
    "else:\n",
    "    pass"
   ]
  },
  {
   "cell_type": "code",
   "execution_count": 40,
   "id": "5160658f",
   "metadata": {},
   "outputs": [
    {
     "data": {
      "application/vnd.jupyter.widget-view+json": {
       "model_id": "486bb5215fb0418e99a55a22e83a3ded",
       "version_major": 2,
       "version_minor": 0
      },
      "text/plain": [
       "SelectMultiple(description='Fruits', index=(1,), options=('Apples', 'Oranges', 'Pears'), value=('Oranges',))"
      ]
     },
     "metadata": {},
     "output_type": "display_data"
    }
   ],
   "source": [
    "w = widgets.SelectMultiple(\n",
    "    options=['Apples', 'Oranges', 'Pears'],\n",
    "    value=['Oranges'],\n",
    "    #rows=10,\n",
    "    description='Fruits',\n",
    "    disabled=False\n",
    ")\n",
    "w"
   ]
  },
  {
   "cell_type": "code",
   "execution_count": 43,
   "id": "e410ed24",
   "metadata": {},
   "outputs": [
    {
     "data": {
      "text/plain": [
       "('Apples', 'Oranges', 'Pears')"
      ]
     },
     "execution_count": 43,
     "metadata": {},
     "output_type": "execute_result"
    }
   ],
   "source": [
    "w.value"
   ]
  }
 ],
 "metadata": {
  "hide_input": false,
  "kernelspec": {
   "display_name": "Python 3 (ipykernel)",
   "language": "python",
   "name": "python3"
  },
  "language_info": {
   "codemirror_mode": {
    "name": "ipython",
    "version": 3
   },
   "file_extension": ".py",
   "mimetype": "text/x-python",
   "name": "python",
   "nbconvert_exporter": "python",
   "pygments_lexer": "ipython3",
   "version": "3.8.12"
  },
  "toc": {
   "base_numbering": 1,
   "nav_menu": {},
   "number_sections": true,
   "sideBar": true,
   "skip_h1_title": false,
   "title_cell": "Table of Contents",
   "title_sidebar": "Contents",
   "toc_cell": false,
   "toc_position": {},
   "toc_section_display": true,
   "toc_window_display": false
  }
 },
 "nbformat": 4,
 "nbformat_minor": 5
}
