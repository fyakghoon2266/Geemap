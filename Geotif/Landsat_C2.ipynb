{
 "cells": [
  {
   "cell_type": "code",
   "execution_count": 1,
   "id": "13183c6b",
   "metadata": {},
   "outputs": [],
   "source": [
    "import os\n",
    "import ee\n",
    "import geemap\n",
    "import time\n",
    "import random\n",
    "from datetime import datetime, timedelta , date\n",
    "import ipywidgets as widgets\n",
    "from IPython.display import display\n",
    "from tkinter import Tk, filedialog\n",
    "import traitlets\n",
    "from ipyfilechooser import FileChooser"
   ]
  },
  {
   "cell_type": "code",
   "execution_count": 2,
   "id": "113f370a",
   "metadata": {},
   "outputs": [],
   "source": [
    "class SelectFilesButton(widgets.Button):\n",
    "    \"\"\"A file widget that leverages tkinter.filedialog.\"\"\"\n",
    "\n",
    "    def __init__(self):\n",
    "        super(SelectFilesButton, self).__init__()\n",
    "        # Add the selected_files trait\n",
    "        self.add_traits(files=traitlets.traitlets.List())\n",
    "        # Create the button.\n",
    "        self.description = \"Select Files\"\n",
    "        self.icon = \"square-o\"\n",
    "        self.style.button_color = \"orange\"\n",
    "        # Set on click behavior.\n",
    "        self.on_click(self.select_files)\n",
    "\n",
    "    @staticmethod\n",
    "    def select_files(b):\n",
    "        \"\"\"Generate instance of tkinter.filedialog.\n",
    "\n",
    "        Parameters\n",
    "        ----------\n",
    "        b : obj:\n",
    "            An instance of ipywidgets.widgets.Button \n",
    "        \"\"\"\n",
    "        # Create Tk root\n",
    "        root = Tk()\n",
    "        # Hide the main window\n",
    "        root.withdraw()\n",
    "        # Raise the root to the top of all windows.\n",
    "        root.call('wm', 'attributes', '.', '-topmost', True)\n",
    "        # List of selected fileswill be set to b.value\n",
    "        b.files = filedialog.askopenfilename(multiple=True,filetypes=[('shp','.shp')])\n",
    "\n",
    "        b.description = \"Files Selected\"\n",
    "        b.icon = \"check-square-o\"\n",
    "        b.style.button_color = \"lightgreen\""
   ]
  },
  {
   "cell_type": "code",
   "execution_count": 3,
   "id": "12207151",
   "metadata": {},
   "outputs": [],
   "source": [
    "# After executing this line of code for the first use, you can get the authentication number linked to Google.\n",
    "#Map = geemap.Map()\n",
    "# Authenticate the Google earth engine with google account\n",
    "ee.Initialize() \n",
    "Map = geemap.Map()"
   ]
  },
  {
   "cell_type": "code",
   "execution_count": 4,
   "id": "d3abb802",
   "metadata": {},
   "outputs": [
    {
     "data": {
      "application/vnd.jupyter.widget-view+json": {
       "model_id": "5b04e1ffa7f04926a40574be231d50fb",
       "version_major": 2,
       "version_minor": 0
      },
      "text/plain": [
       "SelectFilesButton(description='Select Files', icon='square-o', style=ButtonStyle(button_color='orange'))"
      ]
     },
     "metadata": {},
     "output_type": "display_data"
    }
   ],
   "source": [
    "# give the shp file\n",
    "my_button = SelectFilesButton()\n",
    "my_button # This will display the button in the context of Jupyter Notebook"
   ]
  },
  {
   "cell_type": "code",
   "execution_count": 5,
   "id": "fea49d03",
   "metadata": {},
   "outputs": [
    {
     "data": {
      "application/vnd.jupyter.widget-view+json": {
       "model_id": "7a7d7355882d4608806c1b716f9406d0",
       "version_major": 2,
       "version_minor": 0
      },
      "text/plain": [
       "DatePicker(value=None, description='Pick a Star Date')"
      ]
     },
     "metadata": {},
     "output_type": "display_data"
    }
   ],
   "source": [
    "# give the star date and end date\n",
    "\n",
    "star = widgets.DatePicker(\n",
    "    description='Pick a Star Date',\n",
    "    disabled=False\n",
    ")\n",
    "end = widgets.DatePicker(\n",
    "    description='Pick a End Date',\n",
    "    disabled=False\n",
    ")\n",
    "\n",
    "widgets.HBox([star, end])"
   ]
  },
  {
   "cell_type": "code",
   "execution_count": 7,
   "id": "28b61317",
   "metadata": {},
   "outputs": [
    {
     "data": {
      "application/vnd.jupyter.widget-view+json": {
       "model_id": "38b217f0c1344c728f6617fe76539c86",
       "version_major": 2,
       "version_minor": 0
      },
      "text/plain": [
       "Dropdown(description='Band', options=('ndvi', 'ndwi1', 'ndwi2', 'ndwi3', 'evi', 'savi', 'K', 'C'), value='ndvi…"
      ]
     },
     "metadata": {},
     "output_type": "display_data"
    }
   ],
   "source": [
    "# give the bands\n",
    "\n",
    "band_name = widgets.Dropdown(\n",
    "options=['ndvi','ndwi1','ndwi2','ndwi3','evi','savi','K','C'],\n",
    "description='Band')\n",
    "\n",
    "band_name"
   ]
  },
  {
   "cell_type": "code",
   "execution_count": 8,
   "id": "cdba856a",
   "metadata": {},
   "outputs": [
    {
     "data": {
      "application/vnd.jupyter.widget-view+json": {
       "model_id": "20bff2e5087944f79e910cbbd78c6107",
       "version_major": 2,
       "version_minor": 0
      },
      "text/plain": [
       "Dropdown(description='Frequency', options=('Year', 'Month'), value='Year')"
      ]
     },
     "metadata": {},
     "output_type": "display_data"
    }
   ],
   "source": [
    "# gine the date frequency\n",
    "\n",
    "frequency =widgets.Dropdown(\n",
    "    options=['Year','Month'],\n",
    "    value='Year',\n",
    "    description='Frequency')\n",
    "\n",
    "frequency"
   ]
  },
  {
   "cell_type": "code",
   "execution_count": 9,
   "id": "3c4a85e1",
   "metadata": {},
   "outputs": [
    {
     "data": {
      "application/vnd.jupyter.widget-view+json": {
       "model_id": "da42d658d9074514a29847a95f7b9db8",
       "version_major": 2,
       "version_minor": 0
      },
      "text/plain": [
       "FileChooser(path='C:\\Users\\USER\\Desktop\\satellite python code\\satellite python code\\Geotif', filename='', titl…"
      ]
     },
     "metadata": {},
     "output_type": "display_data"
    }
   ],
   "source": [
    "# give the output floder and flie name\n",
    "folder = FileChooser()\n",
    "display(folder)\n"
   ]
  },
  {
   "cell_type": "code",
   "execution_count": 10,
   "id": "5211b339",
   "metadata": {},
   "outputs": [
    {
     "data": {
      "application/vnd.jupyter.widget-view+json": {
       "model_id": "8dbf415e615f4f5492f58f7037083a68",
       "version_major": 2,
       "version_minor": 0
      },
      "text/plain": [
       "IntSlider(value=1000, continuous_update=False, description='Scale:', max=10000, min=500, step=100)"
      ]
     },
     "metadata": {},
     "output_type": "display_data"
    }
   ],
   "source": [
    "# give the scale number\n",
    "scale = widgets.IntSlider(\n",
    "    value=1000,\n",
    "    min=500,\n",
    "    max=10000,\n",
    "    step=100,\n",
    "    description='Scale:',\n",
    "    disabled=False,\n",
    "    continuous_update=False,\n",
    "    orientation='horizontal',\n",
    "    readout=True,\n",
    "    readout_format='d'\n",
    ")\n",
    "\n",
    "scale"
   ]
  },
  {
   "cell_type": "code",
   "execution_count": 11,
   "id": "d5d687e4",
   "metadata": {},
   "outputs": [],
   "source": [
    "roi = geemap.shp_to_ee(''.join(my_button.files)).geometry()"
   ]
  },
  {
   "cell_type": "code",
   "execution_count": 12,
   "id": "2a252b10",
   "metadata": {},
   "outputs": [],
   "source": [
    "def last_day_of_month(any_day):\n",
    "    next_month = any_day.replace(day=28) + timedelta(days=4)  # this will never fail\n",
    "    return next_month - timedelta(days=next_month.day)\n",
    "\n",
    "def monthlist(begin,end):\n",
    "    #begin = datetime.datetime.strptime(begin, \"%Y-%m-%d\")\n",
    "    #end = datetime.datetime.strptime(end, \"%Y-%m-%d\")\n",
    "\n",
    "    result = []\n",
    "    while True:\n",
    "        if begin.month == 12:\n",
    "            next_month = begin.replace(year=begin.year+1,month=1, day=1)\n",
    "        else:\n",
    "            next_month = begin.replace(month=begin.month+1, day=1)\n",
    "        if next_month > end:\n",
    "            break\n",
    "        result.append ([begin.strftime(\"%Y-%m-%d\"),last_day_of_month(begin).strftime(\"%Y-%m-%d\")])\n",
    "        begin = next_month\n",
    "    result.append ([begin.strftime(\"%Y-%m-%d\"),end.strftime(\"%Y-%m-%d\")])\n",
    "    return result\n",
    "\n",
    "\n",
    "def last_day_of_year(any_day):\n",
    "    next_year = any_day.replace(year=any_day.year, month=12, day = 31)  # this will never fail\n",
    "    return next_year\n",
    "\n",
    "def yearlist(begin,end):\n",
    "    #begin = datetime.datetime.strptime(begin, \"%Y-%m-%d\")\n",
    "    #end = datetime.datetime.strptime(end, \"%Y-%m-%d\")\n",
    "\n",
    "    result = []\n",
    "    while True:\n",
    "        if begin.year < end.year:\n",
    "            next_year = begin.replace(year=begin.year+1,month=1, day=1)\n",
    "        else:\n",
    "            next_year = end\n",
    "        if next_year == end:\n",
    "            break\n",
    "        result.append ([begin.strftime(\"%Y-%m-%d\"),last_day_of_year(begin).strftime(\"%Y-%m-%d\")])\n",
    "        begin = next_year\n",
    "    result.append ([begin.strftime(\"%Y-%m-%d\"),end.strftime(\"%Y-%m-%d\")])\n",
    "    return result"
   ]
  },
  {
   "cell_type": "code",
   "execution_count": 13,
   "id": "dee786c9",
   "metadata": {},
   "outputs": [],
   "source": [
    "#Functionalize each parameter\n",
    "\n",
    "def getNDVI(image):\n",
    "    \n",
    "    # Normalized difference vegetation index (NDVI)\n",
    "    ndvi = image.expression(\n",
    "      '((NIR - RED) / (NIR + RED ))', {\n",
    "      'NIR' : image.select('nir').multiply(0.0000275).add(-0.2),\n",
    "      'RED' : image.select('red').multiply(0.0000275).add(-0.2),}).rename(\"ndvi\")\n",
    "    \n",
    "    return image.addBands(ndvi);\n",
    "\n",
    "# get indexes NDWI1\n",
    "def getNDWI1(image):\n",
    "    \n",
    "    ndwi1 = image.expression(\n",
    "      '((NIR - SWIR1) / (NIR + SWIR1 ))', {\n",
    "      'NIR' : image.select('nir').multiply(0.0000275).add(-0.2),\n",
    "      'SWIR1' : image.select('swir1').multiply(0.0000275).add(-0.2),}).rename(\"ndwi1\")\n",
    "    # Normalized difference vegetation index (NDWI1) (Xnir - Xswir1)/(Xnir + Xswir1)\n",
    "    \n",
    "\n",
    "    return image.addBands(ndwi1);\n",
    "\n",
    "# get indexes NDWI2\n",
    "def getNDWI2(image):\n",
    "    \n",
    "    # Normalized difference vegetation index (NDWI2) (Xnir - Xswir2)/(Xnir + Xswir2)\n",
    "    ndwi2 = image.expression(\n",
    "      '((NIR - SWIR2) / (NIR + SWIR2 ))', {\n",
    "      'NIR' : image.select('nir').multiply(0.0000275).add(-0.2),\n",
    "      'SWIR2' : image.select('swir2').multiply(0.0000275).add(-0.2),}).rename(\"ndwi2\")\n",
    "    # Normalized difference vegetation index (NDWI1) (Xnir - Xswir1)/(Xnir + Xswir1)\n",
    "    \n",
    "\n",
    "    return image.addBands(ndwi2);\n",
    "\n",
    "\n",
    "# get indexes NDWI3\n",
    "def getNDWI3(image):\n",
    "    \n",
    "    # Normalized difference vegetation index (NDWI1) (Xgreen - Xnir)/(Xgreen + Xnir)\n",
    "    ndwi3 = image.expression(\n",
    "      '((GREEN - NIR) / (GREEN + NIR))', {\n",
    "      'NIR' : image.select('nir').multiply(0.0000275).add(-0.2),\n",
    "      'GREEN' : image.select('green').multiply(0.0000275).add(-0.2),}).rename(\"ndwi3\")\n",
    "    # Normalized difference vegetation index (NDWI1) (Xnir - Xswir1)/(Xnir + Xswir1)\n",
    "    \n",
    "\n",
    "    return image.addBands(ndwi3);\n",
    "\n",
    "\n",
    "def getEVI(image):\n",
    "    evi = image.expression(\n",
    "      '2.5 * ((NIR - RED) / (NIR + 6 * RED - 7.5 * BLUE + 1))', {\n",
    "      'NIR' : image.select('nir').multiply(0.0000275).add(-0.2),\n",
    "      'RED' : image.select('red').multiply(0.0000275).add(-0.2),\n",
    "      'BLUE': image.select('blue').multiply(0.0000275).add(-0.2)}).rename('evi');\n",
    "    return image.addBands(evi);\n",
    "    \n",
    "\n",
    "def getSAVI(image):\n",
    "    savi = image.expression(\n",
    "     '1.5 * (nir - red) / (nir + red + 0.5)', {\n",
    "      'nir': image.select('nir').multiply(0.0000275).add(-0.2),\n",
    "      'red': image.select('red').multiply(0.0000275).add(-0.2)}).rename('savi');\n",
    "    return image.addBands(savi);\n",
    "\n",
    "\n",
    "\n",
    "def getK(image):\n",
    "    \n",
    "    K = image.expression(\n",
    "      'temperature',{\n",
    "      'temperature' : image.select('temperature').multiply(0.00341802).add(149.0)}).rename('K');\n",
    "    \n",
    "    return image.addBands(K)\n",
    "\n",
    "    \n",
    "    return image.addBands(K2)\n",
    "\n",
    "\n",
    "\n",
    "def getC(image):\n",
    "    \n",
    "    C = image.expression(\n",
    "      'temperature * 0.00341802 + 149 - 273.15',{\n",
    "      'temperature' : image.select('temperature')}).rename('C');\n",
    "    \n",
    "    return image.addBands(C)"
   ]
  },
  {
   "cell_type": "code",
   "execution_count": 14,
   "id": "5b34209e",
   "metadata": {},
   "outputs": [],
   "source": [
    "def geotif(time_list):\n",
    "   \n",
    "    for i in range(0,len(time_list)):\n",
    "        star_time = time.time()\n",
    "        \n",
    "        dataset = ee.ImageCollection(\"LANDSAT/LC08/C02/T1_L2\") \\\n",
    "                             .filterDate(time_list[i][0],datetime.strptime(time_list[i][1],\"%Y-%m-%d\")+ timedelta(days=1)) \\\n",
    "                             .filterBounds(roi) \\\n",
    "                             .select(['SR_B1','SR_B2','SR_B3','SR_B4','SR_B5','SR_B6','SR_B7', 'ST_B10'],\n",
    "                                     ['ultra blue','blue','green','red','nir','swir1','swir2', 'temperature']) \\\n",
    "                             .map(getNDVI) \\\n",
    "                             .map(getNDWI1) \\\n",
    "                             .map(getNDWI2) \\\n",
    "                             .map(getNDWI3) \\\n",
    "                             .map(getEVI) \\\n",
    "                             .map(getSAVI) \\\n",
    "                             .map(getK) \\\n",
    "                             .map(getC) \\\n",
    "                             .select(band_name.value) \\\n",
    "                             .mean()\n",
    "        \n",
    "        image = dataset.clip(roi).unmask()\n",
    "        filename = os.path.join(os.path.expanduser(folder.selected) + '_{}.tif'.format(time_list[i]))\n",
    "        geemap.ee_export_image(\n",
    "            image, filename=filename, scale=scale.value, region=roi, file_per_band=False\n",
    "                                )"
   ]
  },
  {
   "cell_type": "code",
   "execution_count": 15,
   "id": "08da4de7",
   "metadata": {},
   "outputs": [
    {
     "name": "stdout",
     "output_type": "stream",
     "text": [
      "Generating URL ...\n",
      "Downloading data from https://earthengine.googleapis.com/v1alpha/projects/earthengine-legacy/thumbnails/a2297577de712e8fa85938f1e1ce8d3e-02318f32442282d8d6bedf9b2246bb06:getPixels\n",
      "Please wait ...\n",
      "Data downloaded to D:\\56789_['2019-01-09', '2019-01-31'].tif\n",
      "Generating URL ...\n",
      "Downloading data from https://earthengine.googleapis.com/v1alpha/projects/earthengine-legacy/thumbnails/421e9be1dd433bcdbdb37439a94ea22c-3b1f16b5f6f9095edc992e7c060c8f7e:getPixels\n",
      "Please wait ...\n",
      "Data downloaded to D:\\56789_['2019-02-01', '2019-02-28'].tif\n",
      "Generating URL ...\n",
      "Downloading data from https://earthengine.googleapis.com/v1alpha/projects/earthengine-legacy/thumbnails/4b28fc9ecda8ee11682ae3495b985012-0fd126cc3f17f928b7bbe667569cc4ca:getPixels\n",
      "Please wait ...\n",
      "Data downloaded to D:\\56789_['2019-03-01', '2019-03-19'].tif\n"
     ]
    }
   ],
   "source": [
    "if 'Year' in frequency.value.strip():\n",
    "    time_list = yearlist(star.value, end.value)\n",
    "    geotif(time_list)\n",
    "else:\n",
    "    pass\n",
    "if \"Month\" in frequency.value.strip():\n",
    "    time_list =monthlist(star.value, end.value)\n",
    "    geotif(time_list)\n",
    "else:\n",
    "    pass"
   ]
  }
 ],
 "metadata": {
  "hide_input": false,
  "kernelspec": {
   "display_name": "Python 3",
   "language": "python",
   "name": "python3"
  },
  "language_info": {
   "codemirror_mode": {
    "name": "ipython",
    "version": 3
   },
   "file_extension": ".py",
   "mimetype": "text/x-python",
   "name": "python",
   "nbconvert_exporter": "python",
   "pygments_lexer": "ipython3",
   "version": "3.8.10"
  },
  "toc": {
   "base_numbering": 1,
   "nav_menu": {},
   "number_sections": true,
   "sideBar": true,
   "skip_h1_title": false,
   "title_cell": "Table of Contents",
   "title_sidebar": "Contents",
   "toc_cell": false,
   "toc_position": {},
   "toc_section_display": true,
   "toc_window_display": false
  }
 },
 "nbformat": 4,
 "nbformat_minor": 5
}
