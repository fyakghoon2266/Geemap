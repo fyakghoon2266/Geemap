{
 "cells": [
  {
   "cell_type": "code",
   "execution_count": 1,
   "id": "7ab85dc1",
   "metadata": {},
   "outputs": [],
   "source": [
    "import os\n",
    "import ee\n",
    "import geemap\n",
    "from pathlib import Path\n",
    "from datetime import datetime, timedelta , date\n",
    "import time\n",
    "import pandas as pd\n",
    "import csv\n",
    "import glob\n",
    "import folium\n",
    "from IPython.display import display, clear_output\n",
    "import shutil\n",
    "import shapefile\n",
    "import ipywidgets as widgets\n",
    "from tkinter import Tk, filedialog\n",
    "import traitlets\n",
    "from ipyfilechooser import FileChooser"
   ]
  },
  {
   "cell_type": "code",
   "execution_count": 2,
   "id": "fc8e440e",
   "metadata": {},
   "outputs": [],
   "source": [
    "class SelectFilesButton(widgets.Button):\n",
    "    \"\"\"A file widget that leverages tkinter.filedialog.\"\"\"\n",
    "\n",
    "    def __init__(self):\n",
    "        super(SelectFilesButton, self).__init__()\n",
    "        # Add the selected_files trait\n",
    "        self.add_traits(files=traitlets.traitlets.List())\n",
    "        # Create the button.\n",
    "        self.description = \"Select Files\"\n",
    "        self.icon = \"square-o\"\n",
    "        self.style.button_color = \"orange\"\n",
    "        # Set on click behavior.\n",
    "        self.on_click(self.select_files)\n",
    "\n",
    "    @staticmethod\n",
    "    def select_files(b):\n",
    "        \"\"\"Generate instance of tkinter.filedialog.\n",
    "\n",
    "        Parameters\n",
    "        ----------\n",
    "        b : obj:\n",
    "            An instance of ipywidgets.widgets.Button \n",
    "        \"\"\"\n",
    "        # Create Tk root\n",
    "        root = Tk()\n",
    "        # Hide the main window\n",
    "        root.withdraw()\n",
    "        # Raise the root to the top of all windows.\n",
    "        root.call('wm', 'attributes', '.', '-topmost', True)\n",
    "        # List of selected fileswill be set to b.value\n",
    "        b.files = filedialog.askopenfilename(multiple=True,filetypes=[('shp','.shp')])\n",
    "\n",
    "        b.description = \"Files Selected\"\n",
    "        b.icon = \"check-square-o\"\n",
    "        b.style.button_color = \"lightgreen\""
   ]
  },
  {
   "cell_type": "code",
   "execution_count": 3,
   "id": "b1ab621b",
   "metadata": {},
   "outputs": [],
   "source": [
    "# After executing this line of code for the first use, you can get the authentication number linked to Google.\n",
    "Map = geemap.Map()\n",
    "# Authenticate the Google earth engine with google account\n",
    "ee.Initialize() "
   ]
  },
  {
   "cell_type": "code",
   "execution_count": 4,
   "id": "17f68294",
   "metadata": {},
   "outputs": [
    {
     "data": {
      "application/vnd.jupyter.widget-view+json": {
       "model_id": "54a722213d3c46c2bd47b7d1a3368897",
       "version_major": 2,
       "version_minor": 0
      },
      "text/plain": [
       "SelectFilesButton(description='Select Files', icon='square-o', style=ButtonStyle(button_color='orange'))"
      ]
     },
     "metadata": {},
     "output_type": "display_data"
    }
   ],
   "source": [
    "# give the shp file\n",
    "my_button = SelectFilesButton()\n",
    "my_button # This will display the button in the context of Jupyter Notebook"
   ]
  },
  {
   "cell_type": "code",
   "execution_count": 5,
   "id": "b93676be",
   "metadata": {},
   "outputs": [
    {
     "data": {
      "application/vnd.jupyter.widget-view+json": {
       "model_id": "e1386c23a68c4de1a331ac3c94f10512",
       "version_major": 2,
       "version_minor": 0
      },
      "text/plain": [
       "Dropdown(description='Regional category', options=('DeletionFlag', 'STATE'), value='DeletionFlag')"
      ]
     },
     "metadata": {},
     "output_type": "display_data"
    }
   ],
   "source": [
    "shp = shapefile.Reader(\"\".join(my_button.files))\n",
    "b = []\n",
    "for i in range(len(shp.fields)):\n",
    "    a = shp.fields[i][0]\n",
    "    b.append(a)\n",
    "\n",
    "# give the shapefile name\n",
    "\n",
    "file_name = widgets.Dropdown(\n",
    "options=b,\n",
    "description='Regional category')\n",
    "\n",
    "file_name"
   ]
  },
  {
   "cell_type": "code",
   "execution_count": 6,
   "id": "a792b2a2",
   "metadata": {},
   "outputs": [
    {
     "data": {
      "application/vnd.jupyter.widget-view+json": {
       "model_id": "48403a1ba7d7478485a7005e4036ac8e",
       "version_major": 2,
       "version_minor": 0
      },
      "text/plain": [
       "HBox(children=(DatePicker(value=None, description='Pick a Star Date'), DatePicker(value=None, description='Pic…"
      ]
     },
     "metadata": {},
     "output_type": "display_data"
    }
   ],
   "source": [
    "# give the star date and end date\n",
    "\n",
    "star = widgets.DatePicker(\n",
    "    description='Pick a Star Date',\n",
    "    disabled=False\n",
    ")\n",
    "end = widgets.DatePicker(\n",
    "    description='Pick a End Date',\n",
    "    disabled=False\n",
    ")\n",
    "\n",
    "widgets.HBox([star, end])"
   ]
  },
  {
   "cell_type": "code",
   "execution_count": 7,
   "id": "1161cf8f",
   "metadata": {},
   "outputs": [
    {
     "data": {
      "application/vnd.jupyter.widget-view+json": {
       "model_id": "ce0fe1a9bd6449f5bbf3a4ac8c578729",
       "version_major": 2,
       "version_minor": 0
      },
      "text/plain": [
       "SelectMultiple(description='Band', options=('LST_Day', 'LST_Night', 'LST_Mean'), value=())"
      ]
     },
     "metadata": {},
     "output_type": "display_data"
    }
   ],
   "source": [
    "# give the bands\n",
    "#\n",
    "band_name = widgets.SelectMultiple(\n",
    "options=['LST_Day','LST_Night','LST_Mean'],\n",
    "description='Band',\n",
    ")\n",
    "\n",
    "band_name"
   ]
  },
  {
   "cell_type": "code",
   "execution_count": 8,
   "id": "40848fa7",
   "metadata": {},
   "outputs": [
    {
     "data": {
      "application/vnd.jupyter.widget-view+json": {
       "model_id": "eeb2038cfcb940269f085429bc48b6bd",
       "version_major": 2,
       "version_minor": 0
      },
      "text/plain": [
       "Dropdown(description='Statistics', options=('MEAN', 'MAXIMUM', 'MINIMUM', 'MEDIAN', 'STD', 'VARIANCE', 'SUM'),…"
      ]
     },
     "metadata": {},
     "output_type": "display_data"
    }
   ],
   "source": [
    "statics =widgets.Dropdown(\n",
    "    options=['MEAN','MAXIMUM', 'MINIMUM', 'MEDIAN', 'STD', 'VARIANCE', 'SUM'],\n",
    "    value='MEAN',\n",
    "    description='Statistics')\n",
    "\n",
    "statics"
   ]
  },
  {
   "cell_type": "code",
   "execution_count": 9,
   "id": "b2502852",
   "metadata": {},
   "outputs": [
    {
     "data": {
      "application/vnd.jupyter.widget-view+json": {
       "model_id": "e0d33fc41905415c91e131b89b55a136",
       "version_major": 2,
       "version_minor": 0
      },
      "text/plain": [
       "FileChooser(path='C:\\Users\\Yang Hsiu\\Downloads\\satellite python code-20220518T062225Z-001\\satellite python cod…"
      ]
     },
     "metadata": {},
     "output_type": "display_data"
    }
   ],
   "source": [
    "# give the output floder and flie name\n",
    "folder = FileChooser()\n",
    "display(folder)\n"
   ]
  },
  {
   "cell_type": "code",
   "execution_count": 10,
   "id": "ec48672f",
   "metadata": {},
   "outputs": [],
   "source": [
    "# create folder\n",
    "folder_name = 'data_all'\n",
    "\n",
    "# create folder name : data_all\n",
    "if os.path.isdir(folder_name) == True:\n",
    "    shutil.rmtree(folder_name, ignore_errors=True)\n",
    "    os.makedirs(folder_name)\n",
    "else:\n",
    "    os.makedirs(folder_name)"
   ]
  },
  {
   "cell_type": "code",
   "execution_count": 11,
   "id": "246a89f7",
   "metadata": {},
   "outputs": [],
   "source": [
    "states = geemap.shp_to_ee(\"\".join(my_button.files))\n",
    "\n",
    "def lst_filter(image):\n",
    "    \n",
    "    qaday = image.select(['QC_Day']); \n",
    "    qanight = image.select(['QC_Night']); \n",
    "    dayshift = qaday.rightShift(6);\n",
    "    nightshift = qanight.rightShift(6);\n",
    "    daymask = dayshift.lte(2);\n",
    "    nightmask = nightshift.lte(2);\n",
    "    #dayshift1 = qaday.leftShift(6);\n",
    "    #dayshift2 = qaday.rightShift(6);\n",
    "    #daymask = dayshift2.eq(0);\n",
    "    #nightshift1 = qanight.leftShift(6);\n",
    "    #nightshift2 = qanight.rightShift(6);\n",
    "    #nightmask = nightshift2.eq(0);  \n",
    "    outimage = ee.Image(image.select(['LST_Day_1km', 'LST_Night_1km']));\n",
    "    outmask = ee.Image([daymask, nightmask]);\n",
    "    return outimage.updateMask(outmask); \n",
    "\n",
    "\n",
    "\n",
    "\n",
    "\n",
    "def last_day_of_month(any_day):\n",
    "    next_month = any_day.replace(day=28) + timedelta(days=4)  # this will never fail\n",
    "    return next_month - timedelta(days=next_month.day)\n",
    "\n",
    "def monthlist(begin,end):\n",
    "    #begin = datetime.datetime.strptime(begin, \"%Y-%m-%d\")\n",
    "    #end = datetime.datetime.strptime(end, \"%Y-%m-%d\")\n",
    "\n",
    "    result = []\n",
    "    while True:\n",
    "        if begin.month == 12:\n",
    "            next_month = begin.replace(year=begin.year+1,month=1, day=1)\n",
    "        else:\n",
    "            next_month = begin.replace(month=begin.month+1, day=1)\n",
    "        if next_month > end:\n",
    "            break\n",
    "        result.append ([begin.strftime(\"%Y-%m-%d\"),last_day_of_month(begin).strftime(\"%Y-%m-%d\")])\n",
    "        begin = next_month\n",
    "    result.append ([begin.strftime(\"%Y-%m-%d\"),end.strftime(\"%Y-%m-%d\")])\n",
    "    return result\n",
    "\n",
    "\n",
    "def last_day_of_year(any_day):\n",
    "    next_year = any_day.replace(year=any_day.year, month=12, day = 31)  # this will never fail\n",
    "    return next_year\n",
    "\n",
    "def yearlist(begin,end):\n",
    "    #begin = datetime.datetime.strptime(begin, \"%Y-%m-%d\")\n",
    "    #end = datetime.datetime.strptime(end, \"%Y-%m-%d\")\n",
    "\n",
    "    result = []\n",
    "    while True:\n",
    "        if begin.year < end.year:\n",
    "            next_year = begin.replace(year=begin.year+1,month=1, day=1)\n",
    "        else:\n",
    "            next_year = end\n",
    "        if next_year == end:\n",
    "            break\n",
    "        result.append ([begin.strftime(\"%Y-%m-%d\"),last_day_of_year(begin).strftime(\"%Y-%m-%d\")])\n",
    "        begin = next_year\n",
    "    result.append ([begin.strftime(\"%Y-%m-%d\"),end.strftime(\"%Y-%m-%d\")])\n",
    "    return result\n",
    "\n",
    "def trans_date(input_date):\n",
    "    t1 = input_date\n",
    "    t2 = datetime.strptime(t1, '%Y_%m_%d').strftime('%Y/%m/%d')\n",
    "    return t2\n",
    "\n"
   ]
  },
  {
   "cell_type": "code",
   "execution_count": 12,
   "id": "a6ae6c9e",
   "metadata": {},
   "outputs": [
    {
     "data": {
      "text/plain": [
       "' \\nNote that here, the merged file path cannot be the same as the single file path, and must be placed in different folders, \\nso this time the following line of code is to output the files to another folder.\\n'"
      ]
     },
     "execution_count": 12,
     "metadata": {},
     "output_type": "execute_result"
    }
   ],
   "source": [
    "def lst_day(image):\n",
    "    \n",
    "    lst_day = image.select('LST_Day_1km').multiply(0.02).subtract(273.15).rename(\"LST_Day\")\n",
    "    image = image.addBands(lst_day)\n",
    "\n",
    "    return(image)\n",
    "\n",
    "def lst_night(image):\n",
    "    \n",
    "    lst_night = image.select('LST_Night_1km').multiply(0.02).subtract(273.15).rename(\"LST_Night\")\n",
    "    image = image.addBands(lst_night)\n",
    "\n",
    "    return(image)\n",
    "\n",
    "def lst_mean(image):\n",
    "    lst_mean = image.expression(\n",
    "    '(day + night) / 2', {\n",
    "    'day': image.select('LST_Day'),\n",
    "    'night': image.select('LST_Night')}).rename('LST_Mean');\n",
    "\n",
    "    return image.addBands(lst_mean);\n",
    "\n",
    "#Combine date csv files and combine them according to different statistical values.\n",
    "\n",
    "def cbind(statics):\n",
    "\n",
    "    all_files = glob.glob(os.path.join(folder_name,\"Modis_{}*.csv\".format(statics)))\n",
    "\n",
    "    df_from_each_file = (pd.read_csv(f, sep = \",\") for f in all_files)\n",
    "    df_merged = pd.concat(df_from_each_file, ignore_index = True)\n",
    "    if 'LST_Day' in df_merged.columns.tolist():\n",
    "        df_merged.rename(columns={'LST_Day' : 'LST_Day_' + str(statics)}, inplace = True)\n",
    "    else:\n",
    "        pass\n",
    "    if 'LST_Night' in df_merged.columns.tolist():\n",
    "        df_merged.rename(columns={'LST_Night' : 'LST_Night_' + str(statics)}, inplace = True)\n",
    "    else:\n",
    "        pass\n",
    "    if 'LST_Mean' in df_merged.columns.tolist():\n",
    "        df_merged.rename(columns={'LST_Mean' : 'LST_Mean_' + str(statics)}, inplace = True)\n",
    "    else:\n",
    "        pass\n",
    "\n",
    "    df_merged.to_csv(folder.selected + '.csv')\n",
    "    \n",
    "    shutil.rmtree(folder_name, ignore_errors=True)\n",
    "\n",
    "\"\"\" \n",
    "Note that here, the merged file path cannot be the same as the single file path, and must be placed in different folders, \n",
    "so this time the following line of code is to output the files to another folder.\n",
    "\"\"\"\n"
   ]
  },
  {
   "cell_type": "code",
   "execution_count": 13,
   "id": "f1e313c7",
   "metadata": {},
   "outputs": [],
   "source": [
    "def zonal(statics):\n",
    "    \n",
    "    time_list =monthlist(star.value, end.value)\n",
    "    \n",
    "    for i in range(0,len(time_list)):\n",
    "        star_time = time.time()\n",
    "        \n",
    "        if os.path.isfile(folder_name +'Modis_{}_{}.csv'.format(statics,time_list[i])) == True:\n",
    "                \n",
    "                continue\n",
    "            \n",
    "        else:\n",
    "            clear_output(wait=True)\n",
    "            Modis = ee.ImageCollection('MODIS/006/MOD11A2') \\\n",
    "                      .filter(ee.Filter.date(time_list[i][0],datetime.strptime(time_list[i][1],\"%Y-%m-%d\")+ timedelta(days=1))) \\\n",
    "                      .filterBounds(states) \\\n",
    "                      .map(lst_filter) \\\n",
    "                      .map(lst_day) \\\n",
    "                      .map(lst_night) \\\n",
    "                      .map(lst_mean) \\\n",
    "                      .select(list(band_name.value)) \\\n",
    "                      .map(lambda image: image.clip(states))\n",
    "\n",
    "\n",
    "            Modis = Modis.toBands()\n",
    "            out_dir = os.path.expanduser(folder_name)\n",
    "            out_dem_stats = os.path.join(out_dir, 'Modis_{}_{}.csv'.format(statics,time_list[i]))\n",
    "\n",
    "            if not os.path.exists(out_dir):\n",
    "                os.makedirs(out_dir)\n",
    "\n",
    "            geemap.zonal_statistics(Modis, states, out_dem_stats, statistics_type=statics, scale=1000)\n",
    "            data_temp = pd.read_csv(out_dem_stats)\n",
    "            column_name_list = data_temp.columns.tolist()\n",
    "            c = []\n",
    "            d = []\n",
    "            for k in zip(column_name_list[:]):\n",
    "                c.append(k[0][0])\n",
    "                d.append(k[0])\n",
    "            data = []\n",
    "            for j in range(0, len(column_name_list),len(band_name.value)):            \n",
    "                if all(m.isdigit() for m in c[j:j+len(band_name.value)]) == True:\n",
    "                        \n",
    "                    df = data_temp.loc[:,d[j:j+len(band_name.value)]]\n",
    "                    df[file_name.value] = data_temp.loc[:,[file_name.value]]\n",
    "                    text = column_name_list[j][0:10]\n",
    "                    df.insert(0, 'Date', '')\n",
    "                    df['Date'] = trans_date(text)\n",
    "                    df.insert(1, 'Doy', '')\n",
    "                    df['Doy'] = datetime.strptime(text, '%Y_%m_%d').strftime('%j')\n",
    "                    colnames=['Date','Doy']\n",
    "                    colnames.extend(list(band_name.value))\n",
    "                    colnames.append(file_name.value)\n",
    "                    df.columns=[colnames]\n",
    "                    data.append(df)\n",
    "                else:\n",
    "                    continue\n",
    "                        \n",
    "            appended_data = pd.concat(data, axis=0,ignore_index = True)\n",
    "            #cols = appended_data.columns.to_list()\n",
    "            #cols.insert(len(appended_data.columns), cols.pop(cols.index(file_name)))\n",
    "            #appended_data = appended_data[cols]\n",
    "                \n",
    "            appended_data.to_csv(out_dem_stats,index=False)#Output the file with date and doy back\n",
    "            \n",
    "            end_time = time.time()\n",
    "            print(end_time - star_time)\n",
    "            time.sleep(1)"
   ]
  },
  {
   "cell_type": "code",
   "execution_count": 14,
   "id": "640797d2",
   "metadata": {},
   "outputs": [
    {
     "name": "stdout",
     "output_type": "stream",
     "text": [
      "Computing statistics ...\n",
      "Generating URL ...\n",
      "Downloading data from https://earthengine.googleapis.com/v1alpha/projects/earthengine-legacy/tables/d97cb723629cfade89b7faacbb86272f-705d8f381fc90f1398b63c383162f76c:getFeatures\n",
      "Please wait ...\n",
      "Data downloaded to C:\\Users\\Yang Hsiu\\Downloads\\satellite python code-20220518T062225Z-001\\satellite python code\\zonal statistic\\data_all\\Modis_MEAN_['2019-01-01', '2019-01-31'].csv\n",
      "29.8183856010437\n"
     ]
    }
   ],
   "source": [
    "zonal(statics.value)\n",
    "cbind(statics.value)"
   ]
  }
 ],
 "metadata": {
  "hide_input": false,
  "kernelspec": {
   "display_name": "Python 3 (ipykernel)",
   "language": "python",
   "name": "python3"
  },
  "language_info": {
   "codemirror_mode": {
    "name": "ipython",
    "version": 3
   },
   "file_extension": ".py",
   "mimetype": "text/x-python",
   "name": "python",
   "nbconvert_exporter": "python",
   "pygments_lexer": "ipython3",
   "version": "3.8.12"
  },
  "toc": {
   "base_numbering": 1,
   "nav_menu": {},
   "number_sections": true,
   "sideBar": true,
   "skip_h1_title": false,
   "title_cell": "Table of Contents",
   "title_sidebar": "Contents",
   "toc_cell": false,
   "toc_position": {},
   "toc_section_display": true,
   "toc_window_display": false
  }
 },
 "nbformat": 4,
 "nbformat_minor": 5
}
