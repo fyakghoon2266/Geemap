{
 "cells": [
  {
   "cell_type": "code",
   "execution_count": 1,
   "id": "f0148544",
   "metadata": {},
   "outputs": [],
   "source": [
    "import os\n",
    "import ee\n",
    "import geemap\n",
    "from pathlib import Path\n",
    "from datetime import datetime, timedelta , date\n",
    "import time\n",
    "import pandas as pd\n",
    "import csv\n",
    "import glob\n",
    "import folium\n",
    "from IPython.display import display, clear_output\n",
    "import shutil\n",
    "import shapefile\n",
    "import ipywidgets as widgets\n",
    "from tkinter import Tk, filedialog\n",
    "import traitlets\n",
    "from ipyfilechooser import FileChooser"
   ]
  },
  {
   "cell_type": "code",
   "execution_count": 2,
   "id": "477066e9",
   "metadata": {},
   "outputs": [],
   "source": [
    "class SelectFilesButton(widgets.Button):\n",
    "    \"\"\"A file widget that leverages tkinter.filedialog.\"\"\"\n",
    "\n",
    "    def __init__(self):\n",
    "        super(SelectFilesButton, self).__init__()\n",
    "        # Add the selected_files trait\n",
    "        self.add_traits(files=traitlets.traitlets.List())\n",
    "        # Create the button.\n",
    "        self.description = \"Select Files\"\n",
    "        self.icon = \"square-o\"\n",
    "        self.style.button_color = \"orange\"\n",
    "        # Set on click behavior.\n",
    "        self.on_click(self.select_files)\n",
    "\n",
    "    @staticmethod\n",
    "    def select_files(b):\n",
    "        \"\"\"Generate instance of tkinter.filedialog.\n",
    "\n",
    "        Parameters\n",
    "        ----------\n",
    "        b : obj:\n",
    "            An instance of ipywidgets.widgets.Button \n",
    "        \"\"\"\n",
    "        # Create Tk root\n",
    "        root = Tk()\n",
    "        # Hide the main window\n",
    "        root.withdraw()\n",
    "        # Raise the root to the top of all windows.\n",
    "        root.call('wm', 'attributes', '.', '-topmost', True)\n",
    "        # List of selected fileswill be set to b.value\n",
    "        b.files = filedialog.askopenfilename(multiple=True,filetypes=[('shp','.shp')])\n",
    "\n",
    "        b.description = \"Files Selected\"\n",
    "        b.icon = \"check-square-o\"\n",
    "        b.style.button_color = \"lightgreen\""
   ]
  },
  {
   "cell_type": "code",
   "execution_count": 3,
   "id": "1c3f318d",
   "metadata": {},
   "outputs": [],
   "source": [
    "# After executing this line of code for the first use, you can get the authentication number linked to Google.\n",
    "Map = geemap.Map()\n",
    "# Authenticate the Google earth engine with google account\n",
    "ee.Initialize() "
   ]
  },
  {
   "cell_type": "code",
   "execution_count": 4,
   "id": "4976df75",
   "metadata": {},
   "outputs": [
    {
     "data": {
      "application/vnd.jupyter.widget-view+json": {
       "model_id": "599369dee18d4f9ab6d30b02d556ef5d",
       "version_major": 2,
       "version_minor": 0
      },
      "text/plain": [
       "SelectFilesButton(description='Select Files', icon='square-o', style=ButtonStyle(button_color='orange'))"
      ]
     },
     "metadata": {},
     "output_type": "display_data"
    }
   ],
   "source": [
    "# give the shp file\n",
    "my_button = SelectFilesButton()\n",
    "my_button # This will display the button in the context of Jupyter Notebook"
   ]
  },
  {
   "cell_type": "code",
   "execution_count": 13,
   "id": "e4fe9c00",
   "metadata": {},
   "outputs": [
    {
     "data": {
      "application/vnd.jupyter.widget-view+json": {
       "model_id": "200bcf2a3ec748c8af885e524c237338",
       "version_major": 2,
       "version_minor": 0
      },
      "text/plain": [
       "Dropdown(description='Regional category', options=('DeletionFlag', 'Shape_Leng', 'Shape_Area', 'ID', 'A_ID'), …"
      ]
     },
     "metadata": {},
     "output_type": "display_data"
    }
   ],
   "source": [
    "shp = shapefile.Reader(\"\".join(my_button.files))\n",
    "b = []\n",
    "for i in range(len(shp.fields)):\n",
    "    a = shp.fields[i][0]\n",
    "    b.append(a)\n",
    "\n",
    "# give the shapefile name\n",
    "\n",
    "file_name = widgets.Dropdown(\n",
    "options=b,\n",
    "description='Regional category')\n",
    "\n",
    "file_name"
   ]
  },
  {
   "cell_type": "code",
   "execution_count": 14,
   "id": "9a087647",
   "metadata": {},
   "outputs": [
    {
     "data": {
      "application/vnd.jupyter.widget-view+json": {
       "model_id": "804079d1c7434ef58acb552f64bd1c68",
       "version_major": 2,
       "version_minor": 0
      },
      "text/plain": [
       "Dropdown(description='Statistics', options=('MEAN', 'MAXIMUM', 'MINIMUM', 'MEDIAN', 'STD', 'VARIANCE', 'SUM'),…"
      ]
     },
     "metadata": {},
     "output_type": "display_data"
    }
   ],
   "source": [
    "statics =widgets.Dropdown(\n",
    "    options=['MEAN','MAXIMUM', 'MINIMUM', 'MEDIAN', 'STD', 'VARIANCE', 'SUM'],\n",
    "    value='MEAN',\n",
    "    description='Statistics')\n",
    "\n",
    "statics"
   ]
  },
  {
   "cell_type": "code",
   "execution_count": 15,
   "id": "e33147a7",
   "metadata": {},
   "outputs": [
    {
     "data": {
      "application/vnd.jupyter.widget-view+json": {
       "model_id": "5532a6191414439f924626970ccb3cc5",
       "version_major": 2,
       "version_minor": 0
      },
      "text/plain": [
       "FileChooser(path='C:\\Users\\Yang Hsiu\\Downloads\\satellite python code-20220518T062225Z-001\\satellite python cod…"
      ]
     },
     "metadata": {},
     "output_type": "display_data"
    }
   ],
   "source": [
    "# give the output floder and flie name\n",
    "folder = FileChooser()\n",
    "display(folder)"
   ]
  },
  {
   "cell_type": "code",
   "execution_count": 16,
   "id": "0f3376a5",
   "metadata": {},
   "outputs": [
    {
     "name": "stdout",
     "output_type": "stream",
     "text": [
      "Computing statistics ...\n",
      "Generating URL ...\n",
      "Downloading data from https://earthengine.googleapis.com/v1alpha/projects/earthengine-legacy/tables/8109c6194e8b77a868db3ae9ad39b833-7134e4997fc70e9b058e8be1ab6fac59:getFeatures\n",
      "Please wait ...\n",
      "Data downloaded to C:\\Users\\Yang Hsiu\\Desktop\\test1111.csv\n"
     ]
    }
   ],
   "source": [
    "states = geemap.shp_to_ee(\"\".join(my_button.files))\n",
    "\n",
    "dataset = ee.Image('USGS/SRTMGL1_003')\n",
    "# slope = ee.Terrain.slope(dataset)\n",
    "\n",
    "out_dir = os.path.expanduser(folder.selected_path)\n",
    "out_dem_stats = os.path.join(out_dir, folder.selected_filename+'.csv')\n",
    "if not os.path.exists(out_dir):\n",
    "    os.makedirs(out_dir)\n",
    "\n",
    "geemap.zonal_statistics(dataset, states, out_dem_stats, statistics_type=statics.value)"
   ]
  }
 ],
 "metadata": {
  "kernelspec": {
   "display_name": "Python 3 (ipykernel)",
   "language": "python",
   "name": "python3"
  },
  "language_info": {
   "codemirror_mode": {
    "name": "ipython",
    "version": 3
   },
   "file_extension": ".py",
   "mimetype": "text/x-python",
   "name": "python",
   "nbconvert_exporter": "python",
   "pygments_lexer": "ipython3",
   "version": "3.8.12"
  },
  "toc": {
   "base_numbering": 1,
   "nav_menu": {},
   "number_sections": true,
   "sideBar": true,
   "skip_h1_title": false,
   "title_cell": "Table of Contents",
   "title_sidebar": "Contents",
   "toc_cell": false,
   "toc_position": {},
   "toc_section_display": true,
   "toc_window_display": false
  }
 },
 "nbformat": 4,
 "nbformat_minor": 5
}
