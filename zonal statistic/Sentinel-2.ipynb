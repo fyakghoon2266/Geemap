{
 "cells": [
  {
   "cell_type": "code",
   "execution_count": 1,
   "id": "170fb969",
   "metadata": {},
   "outputs": [],
   "source": [
    "import os\n",
    "import ee\n",
    "import geemap\n",
    "from pathlib import Path\n",
    "from datetime import datetime, timedelta , date\n",
    "import time\n",
    "import pandas as pd\n",
    "import csv\n",
    "import glob\n",
    "import folium\n",
    "from IPython.display import display, clear_output\n",
    "import shutil\n",
    "import shapefile\n",
    "import ipywidgets as widgets\n",
    "from tkinter import Tk, filedialog\n",
    "import traitlets\n",
    "from ipyfilechooser import FileChooser"
   ]
  },
  {
   "cell_type": "code",
   "execution_count": 2,
   "id": "2cf11a27",
   "metadata": {},
   "outputs": [],
   "source": [
    "class SelectFilesButton(widgets.Button):\n",
    "    \"\"\"A file widget that leverages tkinter.filedialog.\"\"\"\n",
    "\n",
    "    def __init__(self):\n",
    "        super(SelectFilesButton, self).__init__()\n",
    "        # Add the selected_files trait\n",
    "        self.add_traits(files=traitlets.traitlets.List())\n",
    "        # Create the button.\n",
    "        self.description = \"Select Files\"\n",
    "        self.icon = \"square-o\"\n",
    "        self.style.button_color = \"orange\"\n",
    "        # Set on click behavior.\n",
    "        self.on_click(self.select_files)\n",
    "\n",
    "    @staticmethod\n",
    "    def select_files(b):\n",
    "        \"\"\"Generate instance of tkinter.filedialog.\n",
    "\n",
    "        Parameters\n",
    "        ----------\n",
    "        b : obj:\n",
    "            An instance of ipywidgets.widgets.Button \n",
    "        \"\"\"\n",
    "        # Create Tk root\n",
    "        root = Tk()\n",
    "        # Hide the main window\n",
    "        root.withdraw()\n",
    "        # Raise the root to the top of all windows.\n",
    "        root.call('wm', 'attributes', '.', '-topmost', True)\n",
    "        # List of selected fileswill be set to b.value\n",
    "        b.files = filedialog.askopenfilename(multiple=True,filetypes=[('shp','.shp')])\n",
    "\n",
    "        b.description = \"Files Selected\"\n",
    "        b.icon = \"check-square-o\"\n",
    "        b.style.button_color = \"lightgreen\""
   ]
  },
  {
   "cell_type": "code",
   "execution_count": 3,
   "id": "1871b237",
   "metadata": {},
   "outputs": [],
   "source": [
    "# After executing this line of code for the first use, you can get the authentication number linked to Google.\n",
    "Map = geemap.Map()\n",
    "# Authenticate the Google earth engine with google account\n",
    "ee.Initialize() "
   ]
  },
  {
   "cell_type": "code",
   "execution_count": 4,
   "id": "07f28426",
   "metadata": {},
   "outputs": [
    {
     "data": {
      "application/vnd.jupyter.widget-view+json": {
       "model_id": "ac463d59a55c48b59569b6bde82b95b2",
       "version_major": 2,
       "version_minor": 0
      },
      "text/plain": [
       "SelectFilesButton(description='Select Files', icon='square-o', style=ButtonStyle(button_color='orange'))"
      ]
     },
     "metadata": {},
     "output_type": "display_data"
    }
   ],
   "source": [
    "# give the shp file\n",
    "my_button = SelectFilesButton()\n",
    "my_button # This will display the button in the context of Jupyter Notebook"
   ]
  },
  {
   "cell_type": "code",
   "execution_count": 5,
   "id": "ceec776a",
   "metadata": {},
   "outputs": [
    {
     "data": {
      "application/vnd.jupyter.widget-view+json": {
       "model_id": "b53469ba3e244c9582aa00e1d416a35a",
       "version_major": 2,
       "version_minor": 0
      },
      "text/plain": [
       "Dropdown(description='Regional category', options=('DeletionFlag', 'STATE'), value='DeletionFlag')"
      ]
     },
     "metadata": {},
     "output_type": "display_data"
    }
   ],
   "source": [
    "shp = shapefile.Reader(\"\".join(my_button.files))\n",
    "b = []\n",
    "for i in range(len(shp.fields)):\n",
    "    a = shp.fields[i][0]\n",
    "    b.append(a)\n",
    "\n",
    "# give the shapefile name\n",
    "\n",
    "file_name = widgets.Dropdown(\n",
    "options=b,\n",
    "description='Regional category')\n",
    "\n",
    "file_name"
   ]
  },
  {
   "cell_type": "code",
   "execution_count": 6,
   "id": "6be0be97",
   "metadata": {},
   "outputs": [
    {
     "data": {
      "application/vnd.jupyter.widget-view+json": {
       "model_id": "beaebbcf37de4a569cd05d60df41976c",
       "version_major": 2,
       "version_minor": 0
      },
      "text/plain": [
       "HBox(children=(DatePicker(value=None, description='Pick a Star Date'), DatePicker(value=None, description='Pic…"
      ]
     },
     "metadata": {},
     "output_type": "display_data"
    }
   ],
   "source": [
    "# give the star date and end date\n",
    "\n",
    "star = widgets.DatePicker(\n",
    "    description='Pick a Star Date',\n",
    "    disabled=False\n",
    ")\n",
    "end = widgets.DatePicker(\n",
    "    description='Pick a End Date',\n",
    "    disabled=False\n",
    ")\n",
    "\n",
    "widgets.HBox([star, end])"
   ]
  },
  {
   "cell_type": "code",
   "execution_count": 7,
   "id": "c2491831",
   "metadata": {},
   "outputs": [
    {
     "data": {
      "application/vnd.jupyter.widget-view+json": {
       "model_id": "949eab696bb8422bb92f6521b616881e",
       "version_major": 2,
       "version_minor": 0
      },
      "text/plain": [
       "IntSlider(value=20, continuous_update=False, description='CLOUDY_PIXEL_PERCENTAGE:', step=10)"
      ]
     },
     "metadata": {},
     "output_type": "display_data"
    }
   ],
   "source": [
    "# give CLOUDY_PIXEL_PERCENTAGE\n",
    "\n",
    "CLOUDY_PIXEL_PERCENTAGE = widgets.IntSlider(\n",
    "    value=20,\n",
    "    min=0,\n",
    "    max=100,\n",
    "    step=10,\n",
    "    description='CLOUDY_PIXEL_PERCENTAGE:',\n",
    "    disabled=False,\n",
    "    continuous_update=False,\n",
    "    orientation='horizontal',\n",
    "    readout=True,\n",
    "    readout_format='d'\n",
    ")\n",
    "\n",
    "CLOUDY_PIXEL_PERCENTAGE"
   ]
  },
  {
   "cell_type": "code",
   "execution_count": 8,
   "id": "b2ce76a2",
   "metadata": {},
   "outputs": [
    {
     "data": {
      "application/vnd.jupyter.widget-view+json": {
       "model_id": "2888ee59a8ff48799e4af51120cd0d01",
       "version_major": 2,
       "version_minor": 0
      },
      "text/plain": [
       "SelectMultiple(description='Band', options=('NDVI',), value=())"
      ]
     },
     "metadata": {},
     "output_type": "display_data"
    }
   ],
   "source": [
    "# give the bands\n",
    "#\n",
    "band_name = widgets.SelectMultiple(\n",
    "options=['NDVI'],\n",
    "description='Band',\n",
    ")\n",
    "\n",
    "band_name"
   ]
  },
  {
   "cell_type": "code",
   "execution_count": 9,
   "id": "073fe452",
   "metadata": {},
   "outputs": [
    {
     "data": {
      "application/vnd.jupyter.widget-view+json": {
       "model_id": "fadf7a3b05074fe0b06a019095243bab",
       "version_major": 2,
       "version_minor": 0
      },
      "text/plain": [
       "Dropdown(description='Statistics', options=('MEAN', 'MAXIMUM', 'MINIMUM', 'MEDIAN', 'STD', 'VARIANCE', 'SUM'),…"
      ]
     },
     "metadata": {},
     "output_type": "display_data"
    }
   ],
   "source": [
    "statics =widgets.Dropdown(\n",
    "    options=['MEAN','MAXIMUM', 'MINIMUM', 'MEDIAN', 'STD', 'VARIANCE', 'SUM'],\n",
    "    value='MEAN',\n",
    "    description='Statistics')\n",
    "\n",
    "statics"
   ]
  },
  {
   "cell_type": "code",
   "execution_count": 10,
   "id": "d93d01dd",
   "metadata": {},
   "outputs": [
    {
     "data": {
      "application/vnd.jupyter.widget-view+json": {
       "model_id": "993e3aefb77b4bf7928529142ad7df9a",
       "version_major": 2,
       "version_minor": 0
      },
      "text/plain": [
       "FileChooser(path='C:\\Users\\Yang Hsiu\\Downloads\\satellite python code-20220518T062225Z-001\\satellite python cod…"
      ]
     },
     "metadata": {},
     "output_type": "display_data"
    }
   ],
   "source": [
    "# give the output floder and flie name\n",
    "folder = FileChooser()\n",
    "display(folder)\n"
   ]
  },
  {
   "cell_type": "code",
   "execution_count": 11,
   "id": "f1356ce5",
   "metadata": {},
   "outputs": [],
   "source": [
    "# create folder\n",
    "folder_name = 'data_all'\n",
    "\n",
    "# create folder name : data_all\n",
    "if os.path.isdir(folder_name) == True:\n",
    "    shutil.rmtree(folder_name, ignore_errors=True)\n",
    "    os.makedirs(folder_name)\n",
    "else:\n",
    "    os.makedirs(folder_name)"
   ]
  },
  {
   "cell_type": "code",
   "execution_count": 12,
   "id": "976f4ba6",
   "metadata": {},
   "outputs": [
    {
     "data": {
      "text/plain": [
       "' \\nNote that here, the merged file path cannot be the same as the single file path, and must be placed in different folders, \\nso this time the following line of code is to output the files to another folder.\\n'"
      ]
     },
     "execution_count": 12,
     "metadata": {},
     "output_type": "execute_result"
    }
   ],
   "source": [
    "states = geemap.shp_to_ee(\"\".join(my_button.files))\n",
    "\n",
    "def maskS2clouds(image):\n",
    "    qa = image.select('QA60');\n",
    "    cloudBitMask = 1 << 10;\n",
    "    cirrusBitMask = 1 << 11;\n",
    "    mask = qa.bitwiseAnd(cloudBitMask).eq(0) and (qa.bitwiseAnd(cirrusBitMask).eq(0));\n",
    "    return image.updateMask(mask).divide(10000)\n",
    "\n",
    "\n",
    "# get indexes\n",
    "def getNDVI(image):\n",
    "    \n",
    "    # Normalized difference vegetation index (NDVI)\n",
    "    ndvi = image.normalizedDifference(['B8','B4']).rename(\"NDVI\")\n",
    "    image = image.addBands(ndvi)\n",
    "\n",
    "    return(image)\n",
    "\n",
    "\n",
    "def last_day_of_month(any_day):\n",
    "    next_month = any_day.replace(day=28) + timedelta(days=4)  # this will never fail\n",
    "    return next_month - timedelta(days=next_month.day)\n",
    "\n",
    "def monthlist(begin,end):\n",
    "    #begin = datetime.datetime.strptime(begin, \"%Y-%m-%d\")\n",
    "    #end = datetime.datetime.strptime(end, \"%Y-%m-%d\")\n",
    "\n",
    "    result = []\n",
    "    while True:\n",
    "        if begin.month == 12:\n",
    "            next_month = begin.replace(year=begin.year+1,month=1, day=1)\n",
    "        else:\n",
    "            next_month = begin.replace(month=begin.month+1, day=1)\n",
    "        if next_month > end:\n",
    "            break\n",
    "        result.append ([begin.strftime(\"%Y-%m-%d\"),last_day_of_month(begin).strftime(\"%Y-%m-%d\")])\n",
    "        begin = next_month\n",
    "    result.append ([begin.strftime(\"%Y-%m-%d\"),end.strftime(\"%Y-%m-%d\")])\n",
    "    return result\n",
    "\n",
    "\n",
    "def trans_date(input_date):\n",
    "    t1 = input_date\n",
    "    t2 = datetime.strptime(t1, '%Y%m%d').strftime('%Y/%m/%d')\n",
    "    return t2\n",
    "\n",
    "\n",
    "def cbind(statics):\n",
    "\n",
    "    all_files = glob.glob(os.path.join(folder_name,\"Sentinel-2_{}*.csv\".format(statics)))\n",
    "\n",
    "    df_from_each_file = (pd.read_csv(f, sep = \",\") for f in all_files)\n",
    "    df_merged = pd.concat(df_from_each_file, ignore_index = True)\n",
    "    if 'ndvi' in df_merged.columns.tolist():\n",
    "        df_merged.rename(columns={'NDVI' : 'NDVI_' + str(statics)}, inplace = True)\n",
    "    else:\n",
    "        pass\n",
    "    \n",
    "    df_merged = df_merged.groupby(['Date','Doy',file_name.value]).mean().reset_index()\n",
    "   \n",
    "    df_merged.to_csv(folder.selected + '.csv')\n",
    "    \n",
    "    shutil.rmtree(folder_name, ignore_errors=True)\n",
    "\n",
    "\"\"\" \n",
    "Note that here, the merged file path cannot be the same as the single file path, and must be placed in different folders, \n",
    "so this time the following line of code is to output the files to another folder.\n",
    "\"\"\"\n"
   ]
  },
  {
   "cell_type": "code",
   "execution_count": 13,
   "id": "27b74773",
   "metadata": {},
   "outputs": [],
   "source": [
    "def zonal(statics):\n",
    "    time_list =monthlist(star.value, end.value)\n",
    "    for i in range(0,len(time_list)):\n",
    "        star_time = time.time()\n",
    "        \n",
    "        if os.path.isfile(folder_name +'Sentinel-2_{}_{}.csv'.format(statics,time_list[i])) == True:\n",
    "                \n",
    "                continue\n",
    "            \n",
    "        else:\n",
    "            clear_output(wait=True)\n",
    "            Landsat = ee.ImageCollection('COPERNICUS/S2') \\\n",
    "                      .filterDate(time_list[i][0],datetime.strptime(time_list[i][1],\"%Y-%m-%d\")+ timedelta(days=1)) \\\n",
    "                      .filter(ee.Filter.lt('CLOUDY_PIXEL_PERCENTAGE', CLOUDY_PIXEL_PERCENTAGE.value)) \\\n",
    "                      .map(maskS2clouds) \\\n",
    "                      .map(getNDVI) \\\n",
    "                      .filterBounds(states) \\\n",
    "                      .select(list(band_name.value)) \\\n",
    "                      .map(lambda image: image.clip(states))\n",
    "\n",
    "\n",
    "            Landsat = Landsat.toBands()\n",
    "            out_dir = os.path.expanduser(folder_name)\n",
    "            out_dem_stats = os.path.join(out_dir, 'Sentinel-2_{}_{}.csv'.format(statics,time_list[i]))\n",
    "\n",
    "            if not os.path.exists(out_dir):\n",
    "                os.makedirs(out_dir)\n",
    "\n",
    "            geemap.zonal_statistics(Landsat, states, out_dem_stats, statistics_type=statics, scale=1000)\n",
    "            data_temp = pd.read_csv(out_dem_stats)\n",
    "            column_name_list = data_temp.columns.tolist()\n",
    "            c = []\n",
    "            d = []\n",
    "            for k in zip(column_name_list[:]):\n",
    "                c.append(k[0][0])\n",
    "                d.append(k[0])\n",
    "            data = []\n",
    "            for j in range(0, len(column_name_list),len(band_name.value)):            \n",
    "                if all(m.isdigit() for m in c[j:j+len(band_name.value)]) == True:\n",
    "                        \n",
    "                    df = data_temp.loc[:,d[j:j+len(band_name.value)]]\n",
    "                    df[file_name.value] = data_temp.loc[:,[file_name.value]]\n",
    "                    text = column_name_list[j][0:8]\n",
    "                    df.insert(0, 'Date', '')\n",
    "                    df['Date'] = trans_date(text)\n",
    "                    df.insert(1, 'Doy', '')\n",
    "                    df['Doy'] = datetime.strptime(text, '%Y%m%d').strftime('%j')\n",
    "                    colnames=['Date','Doy']\n",
    "                    colnames.extend(list(band_name.value))\n",
    "                    colnames.append(file_name.value)\n",
    "                    df.columns=[colnames]\n",
    "                    data.append(df)\n",
    "                else:\n",
    "                    continue\n",
    "                        \n",
    "            appended_data = pd.concat(data, axis=0,ignore_index = True)\n",
    "            #cols = appended_data.columns.to_list()\n",
    "            #cols.insert(len(appended_data.columns), cols.pop(cols.index(file_name)))\n",
    "            #appended_data = appended_data[cols]\n",
    "            appended_data.to_csv(out_dem_stats,index=False)#Output the file with date and doy back\n",
    "            \n",
    "            end_time = time.time()\n",
    "            print(end_time - star_time)\n",
    "            time.sleep(1)"
   ]
  },
  {
   "cell_type": "code",
   "execution_count": null,
   "id": "33f56199",
   "metadata": {},
   "outputs": [
    {
     "name": "stdout",
     "output_type": "stream",
     "text": [
      "Computing statistics ...\n"
     ]
    }
   ],
   "source": [
    "zonal(statics.value)\n",
    "cbind(statics.value)"
   ]
  }
 ],
 "metadata": {
  "hide_input": false,
  "kernelspec": {
   "display_name": "Python 3 (ipykernel)",
   "language": "python",
   "name": "python3"
  },
  "language_info": {
   "codemirror_mode": {
    "name": "ipython",
    "version": 3
   },
   "file_extension": ".py",
   "mimetype": "text/x-python",
   "name": "python",
   "nbconvert_exporter": "python",
   "pygments_lexer": "ipython3",
   "version": "3.8.12"
  },
  "toc": {
   "base_numbering": 1,
   "nav_menu": {},
   "number_sections": true,
   "sideBar": true,
   "skip_h1_title": false,
   "title_cell": "Table of Contents",
   "title_sidebar": "Contents",
   "toc_cell": false,
   "toc_position": {},
   "toc_section_display": true,
   "toc_window_display": false
  }
 },
 "nbformat": 4,
 "nbformat_minor": 5
}
