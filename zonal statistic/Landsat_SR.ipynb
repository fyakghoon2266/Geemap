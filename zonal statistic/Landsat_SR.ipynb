{
 "cells": [
  {
   "cell_type": "code",
   "execution_count": 3,
   "id": "f2391a02",
   "metadata": {},
   "outputs": [],
   "source": [
    "import os\n",
    "import ee\n",
    "import geemap\n",
    "from pathlib import Path\n",
    "from datetime import datetime, timedelta , date\n",
    "import time\n",
    "import pandas as pd\n",
    "import csv\n",
    "import glob\n",
    "import folium\n",
    "from IPython.display import display, clear_output\n",
    "import shutil\n",
    "import shapefile\n",
    "import ipywidgets as widgets\n",
    "from tkinter import Tk, filedialog\n",
    "import traitlets\n",
    "from ipyfilechooser import FileChooser"
   ]
  },
  {
   "cell_type": "code",
   "execution_count": 4,
   "id": "b4f002ee",
   "metadata": {},
   "outputs": [],
   "source": [
    "class SelectFilesButton(widgets.Button):\n",
    "    \"\"\"A file widget that leverages tkinter.filedialog.\"\"\"\n",
    "\n",
    "    def __init__(self):\n",
    "        super(SelectFilesButton, self).__init__()\n",
    "        # Add the selected_files trait\n",
    "        self.add_traits(files=traitlets.traitlets.List())\n",
    "        # Create the button.\n",
    "        self.description = \"Select Files\"\n",
    "        self.icon = \"square-o\"\n",
    "        self.style.button_color = \"orange\"\n",
    "        # Set on click behavior.\n",
    "        self.on_click(self.select_files)\n",
    "\n",
    "    @staticmethod\n",
    "    def select_files(b):\n",
    "        \"\"\"Generate instance of tkinter.filedialog.\n",
    "\n",
    "        Parameters\n",
    "        ----------\n",
    "        b : obj:\n",
    "            An instance of ipywidgets.widgets.Button \n",
    "        \"\"\"\n",
    "        # Create Tk root\n",
    "        root = Tk()\n",
    "        # Hide the main window\n",
    "        root.withdraw()\n",
    "        # Raise the root to the top of all windows.\n",
    "        root.call('wm', 'attributes', '.', '-topmost', True)\n",
    "        # List of selected fileswill be set to b.value\n",
    "        b.files = filedialog.askopenfilename(multiple=True,filetypes=[('shp','.shp')])\n",
    "\n",
    "        b.description = \"Files Selected\"\n",
    "        b.icon = \"check-square-o\"\n",
    "        b.style.button_color = \"lightgreen\""
   ]
  },
  {
   "cell_type": "code",
   "execution_count": 5,
   "id": "aa40b828",
   "metadata": {},
   "outputs": [],
   "source": [
    "# After executing this line of code for the first use, you can get the authentication number linked to Google.\n",
    "Map = geemap.Map()\n",
    "# Authenticate the Google earth engine with google account\n",
    "ee.Initialize() "
   ]
  },
  {
   "cell_type": "code",
   "execution_count": 6,
   "id": "a313992d",
   "metadata": {},
   "outputs": [
    {
     "data": {
      "application/vnd.jupyter.widget-view+json": {
       "model_id": "fb30ab52812e4b4fa314f83e491ab2e6",
       "version_major": 2,
       "version_minor": 0
      },
      "text/plain": [
       "SelectFilesButton(description='Select Files', icon='square-o', style=ButtonStyle(button_color='orange'))"
      ]
     },
     "metadata": {},
     "output_type": "display_data"
    }
   ],
   "source": [
    "# give the shp file\n",
    "my_button = SelectFilesButton()\n",
    "my_button # This will display the button in the context of Jupyter Notebook"
   ]
  },
  {
   "cell_type": "code",
   "execution_count": 7,
   "id": "60ebb143",
   "metadata": {},
   "outputs": [
    {
     "data": {
      "application/vnd.jupyter.widget-view+json": {
       "model_id": "2c10042976134a96a6ce687b70469fd1",
       "version_major": 2,
       "version_minor": 0
      },
      "text/plain": [
       "Dropdown(description='Regional category', options=('DeletionFlag', 'STATE'), value='DeletionFlag')"
      ]
     },
     "metadata": {},
     "output_type": "display_data"
    }
   ],
   "source": [
    "shp = shapefile.Reader(\"\".join(my_button.files))\n",
    "b = []\n",
    "for i in range(len(shp.fields)):\n",
    "    a = shp.fields[i][0]\n",
    "    b.append(a)\n",
    "\n",
    "# give the shapefile name\n",
    "\n",
    "file_name = widgets.Dropdown(\n",
    "options=b,\n",
    "description='Regional category')\n",
    "\n",
    "file_name"
   ]
  },
  {
   "cell_type": "code",
   "execution_count": 8,
   "id": "d8c71f27",
   "metadata": {},
   "outputs": [
    {
     "data": {
      "application/vnd.jupyter.widget-view+json": {
       "model_id": "a1c168cd62184e858618fda3916c7550",
       "version_major": 2,
       "version_minor": 0
      },
      "text/plain": [
       "HBox(children=(DatePicker(value=None, description='Pick a Star Date'), DatePicker(value=None, description='Pic…"
      ]
     },
     "metadata": {},
     "output_type": "display_data"
    }
   ],
   "source": [
    "# give the star date and end date\n",
    "\n",
    "star = widgets.DatePicker(\n",
    "    description='Pick a Star Date',\n",
    "    disabled=False\n",
    ")\n",
    "end = widgets.DatePicker(\n",
    "    description='Pick a End Date',\n",
    "    disabled=False\n",
    ")\n",
    "\n",
    "widgets.HBox([star, end])"
   ]
  },
  {
   "cell_type": "code",
   "execution_count": 9,
   "id": "aec93513",
   "metadata": {},
   "outputs": [
    {
     "data": {
      "application/vnd.jupyter.widget-view+json": {
       "model_id": "495c3240301a46868f5a450d0289f79e",
       "version_major": 2,
       "version_minor": 0
      },
      "text/plain": [
       "SelectMultiple(description='Band', options=('NDVI', 'EVI', 'SAVI', 'NDWI_Gao', 'NDWI_Mc', 'MNDWI', 'K1', 'K2',…"
      ]
     },
     "metadata": {},
     "output_type": "display_data"
    }
   ],
   "source": [
    "# give the bands\n",
    "#\n",
    "band_name = widgets.SelectMultiple(\n",
    "options=['NDVI','EVI','SAVI','NDWI_Gao','NDWI_Mc','MNDWI', 'K1', 'K2', 'C1', 'C2'],\n",
    "description='Band',\n",
    ")\n",
    "\n",
    "band_name"
   ]
  },
  {
   "cell_type": "code",
   "execution_count": 10,
   "id": "2bed9e0c",
   "metadata": {},
   "outputs": [
    {
     "data": {
      "application/vnd.jupyter.widget-view+json": {
       "model_id": "d0ae15e1a294445dba44d997930f8481",
       "version_major": 2,
       "version_minor": 0
      },
      "text/plain": [
       "Dropdown(description='Statistics', options=('MEAN', 'MAXIMUM', 'MINIMUM', 'MEDIAN', 'STD', 'VARIANCE', 'SUM'),…"
      ]
     },
     "metadata": {},
     "output_type": "display_data"
    }
   ],
   "source": [
    "statics =widgets.Dropdown(\n",
    "    options=['MEAN','MAXIMUM', 'MINIMUM', 'MEDIAN', 'STD', 'VARIANCE', 'SUM'],\n",
    "    value='MEAN',\n",
    "    description='Statistics')\n",
    "\n",
    "statics"
   ]
  },
  {
   "cell_type": "code",
   "execution_count": 11,
   "id": "8014536f",
   "metadata": {},
   "outputs": [
    {
     "data": {
      "application/vnd.jupyter.widget-view+json": {
       "model_id": "d5b7821eb6234cd5a3a7c5d0ea34a6ec",
       "version_major": 2,
       "version_minor": 0
      },
      "text/plain": [
       "FileChooser(path='C:\\Users\\Yang Hsiu\\Downloads\\satellite python code-20220518T062225Z-001\\satellite python cod…"
      ]
     },
     "metadata": {},
     "output_type": "display_data"
    }
   ],
   "source": [
    "# give the output floder and flie name\n",
    "folder = FileChooser()\n",
    "display(folder)\n"
   ]
  },
  {
   "cell_type": "code",
   "execution_count": 12,
   "id": "64328670",
   "metadata": {},
   "outputs": [],
   "source": [
    "# create folder\n",
    "folder_name = 'data_all'\n",
    "\n",
    "# create folder name : data_all\n",
    "if os.path.isdir(folder_name) == True:\n",
    "    shutil.rmtree(folder_name, ignore_errors=True)\n",
    "    os.makedirs(folder_name)\n",
    "else:\n",
    "    os.makedirs(folder_name)"
   ]
  },
  {
   "cell_type": "code",
   "execution_count": 13,
   "id": "4ab74685",
   "metadata": {},
   "outputs": [
    {
     "data": {
      "text/plain": [
       "' \\nNote that here, the merged file path cannot be the same as the single file path, and must be placed in different folders, \\nso this time the following line of code is to output the files to another folder.\\n'"
      ]
     },
     "execution_count": 13,
     "metadata": {},
     "output_type": "execute_result"
    }
   ],
   "source": [
    "states = geemap.shp_to_ee(\"\".join(my_button.files))\n",
    "\n",
    "#Functionalize each parameter\n",
    "\n",
    "def getNDVI(image):\n",
    "    \n",
    "    # Normalized difference vegetation index (NDVI)\n",
    "    ndvi = image.expression(\n",
    "      '((NIR - RED) / (NIR + RED ))', {\n",
    "      'NIR' : image.select('B5').multiply(0.0001),\n",
    "      'RED' : image.select('B4').multiply(0.0001),}).rename(\"NDVI\")\n",
    "    \n",
    "    return image.addBands(ndvi);\n",
    "\n",
    "# get indexes NDWI1\n",
    "def getNDWI1(image):\n",
    "    \n",
    "    ndwi1 = image.expression(\n",
    "      '((NIR - SWIR2) / (NIR + SWIR2))', {\n",
    "      'NIR' : image.select('B5').multiply(0.0001),\n",
    "      'SWIR2' : image.select('B7').multiply(0.0001),}).rename(\"NDWI_Gao\")\n",
    "    # Normalized difference vegetation index (NDWI1) (Xnir - Xswir1)/(Xnir + Xswir1)\n",
    "    \n",
    "\n",
    "    return image.addBands(ndwi1);\n",
    "\n",
    "# get indexes NDWI2\n",
    "def getNDWI2(image):\n",
    "    \n",
    "    # Normalized difference vegetation index (NDWI2) (Xnir - Xswir2)/(Xnir + Xswir2)\n",
    "    ndwi2 = image.expression(\n",
    "      '((Green - NIR) / (Green + NIR))', {\n",
    "      'NIR' : image.select('B5').multiply(0.0001),\n",
    "      'Green' : image.select('B3').multiply(0.0001),}).rename(\"NDWI_Mc\")\n",
    "    # Normalized difference vegetation index (NDWI1) (Xnir - Xswir1)/(Xnir + Xswir1)\n",
    "    \n",
    "\n",
    "    return image.addBands(ndwi2);\n",
    "\n",
    "\n",
    "# get indexes NDWI3\n",
    "def getNDWI3(image):\n",
    "    \n",
    "    # Normalized difference vegetation index (NDWI1) (Xgreen - Xnir)/(Xgreen + Xnir)\n",
    "    ndwi3 = image.expression(\n",
    "      '((GREEN - SWIR2) / (GREEN + SWIR2))', {\n",
    "      'SWIR2' : image.select('B7').multiply(0.0001),\n",
    "      'GREEN' : image.select('B3').multiply(0.0001),}).rename(\"MNDWI\")\n",
    "    # Normalized difference vegetation index (NDWI1) (Xnir - Xswir1)/(Xnir + Xswir1)\n",
    "    \n",
    "\n",
    "    return image.addBands(ndwi3);\n",
    "\n",
    "\n",
    "def getEVI(image):\n",
    "    evi = image.expression(\n",
    "      '2.5 * ((NIR - RED) / (NIR + 6 * RED - 7.5 * BLUE + 1))', {\n",
    "      'NIR' : image.select('B5').multiply(0.0001),\n",
    "      'RED' : image.select('B4').multiply(0.0001),\n",
    "      'BLUE': image.select('B2').multiply(0.0001)}).rename('EVI');\n",
    "    return image.addBands(evi);\n",
    "    \n",
    "\n",
    "def getSAVI(image):\n",
    "    savi = image.expression(\n",
    "     '1.5 * (nir - red) / (nir + red + 0.5)', {\n",
    "      'nir': image.select('B5').multiply(0.0001),\n",
    "      'red': image.select('B4').multiply(0.0001)}).rename('SAVI');\n",
    "    return image.addBands(savi);\n",
    "\n",
    "\n",
    "def getK1(image):\n",
    "    \n",
    "    K1 = image.expression(\n",
    "      '0.1 * temperature1',{\n",
    "      'temperature1' : image.select('B10')}).rename('K1');\n",
    "    \n",
    "    return image.addBands(K1)\n",
    "\n",
    "def getK2(image):\n",
    "    \n",
    "    K2 = image.expression(\n",
    "      '0.1 * temperature2',{\n",
    "      'temperature2' : image.select('B11')}).rename('K2');\n",
    "    \n",
    "    return image.addBands(K2)\n",
    "\n",
    "def getC1(image):\n",
    "    \n",
    "    C1 = image.expression(\n",
    "      '0.1 * temperature1 - 273.15',{\n",
    "      'temperature1' : image.select('B10')}).rename('C1');\n",
    "    \n",
    "    return image.addBands(C1)\n",
    "\n",
    "def getC2(image):\n",
    "    \n",
    "    C2 = image.expression(\n",
    "      '0.1 * temperature2 - 273.15',{\n",
    "      'temperature2' : image.select('B11')}).rename('C2');\n",
    "    \n",
    "    return image.addBands(C2)\n",
    "\n",
    "\"\"\"\n",
    " * Function to mask clouds based on the pixel_qa band of Landsat 8 SR data.\n",
    " * @param {ee.Image} image input Landsat 8 SR image\n",
    " * @return {ee.Image} cloudmasked Landsat 8 image\n",
    " \"\"\"\n",
    "def maskL8sr(image):\n",
    "    \n",
    "  #Bits 3 and 5 are cloud shadow and cloud, respectively.\n",
    "    cloudShadowBitMask = (1 << 3);\n",
    "    cloudsBitMask = (1 << 5);\n",
    "  #Get the pixel QA band.\n",
    "    qa = image.select('pixel_qa');\n",
    "  #Both flags should be set to zero, indicating clear conditions.\n",
    "    mask = qa.bitwiseAnd(cloudShadowBitMask).eq(0) and (qa.bitwiseAnd(cloudsBitMask).eq(0));\n",
    "    return image.updateMask(mask);\n",
    "\n",
    "\n",
    "def last_day_of_month(any_day):\n",
    "    next_month = any_day.replace(day=28) + timedelta(days=4)  # this will never fail\n",
    "    return next_month - timedelta(days=next_month.day)\n",
    "\n",
    "def monthlist(begin,end):\n",
    "    #begin = datetime.datetime.strptime(begin, \"%Y-%m-%d\")\n",
    "    #end = datetime.datetime.strptime(end, \"%Y-%m-%d\")\n",
    "\n",
    "    result = []\n",
    "    while True:\n",
    "        if begin.month == 12:\n",
    "            next_month = begin.replace(year=begin.year+1,month=1, day=1)\n",
    "        else:\n",
    "            next_month = begin.replace(month=begin.month+1, day=1)\n",
    "        if next_month > end:\n",
    "            break\n",
    "        result.append ([begin.strftime(\"%Y-%m-%d\"),last_day_of_month(begin).strftime(\"%Y-%m-%d\")])\n",
    "        begin = next_month\n",
    "    result.append ([begin.strftime(\"%Y-%m-%d\"),end.strftime(\"%Y-%m-%d\")])\n",
    "    return result\n",
    "\n",
    "\n",
    "def trans_date(input_date):\n",
    "    t1 = input_date\n",
    "    t2 = datetime.strptime(t1, '%Y%m%d').strftime('%Y/%m/%d')\n",
    "    return t2\n",
    "\n",
    "\n",
    "def cbind(statics):\n",
    "\n",
    "    all_files = glob.glob(os.path.join(folder_name,\"LandsatSR_{}*.csv\".format(statics)))\n",
    "\n",
    "    df_from_each_file = (pd.read_csv(f, sep = \",\") for f in all_files)\n",
    "    df_merged = pd.concat(df_from_each_file, ignore_index = True)\n",
    "    if 'NDVI' in df_merged.columns.tolist():\n",
    "        df_merged.rename(columns={'NDVI' : 'NDVI_' + str(statics)}, inplace = True)\n",
    "    else:\n",
    "        pass\n",
    "    if 'EVI' in df_merged.columns.tolist():\n",
    "        df_merged.rename(columns={'EVI' : 'EVI_' + str(statics)}, inplace = True)\n",
    "    else:\n",
    "        pass\n",
    "    if 'SAVI' in df_merged.columns.tolist():\n",
    "        df_merged.rename(columns={'SAVI' : 'SAVI_' + str(statics)}, inplace = True)\n",
    "    else:\n",
    "        pass\n",
    "    if 'NDWI_Gao' in df_merged.columns.tolist():\n",
    "        df_merged.rename(columns={'NDWI_Gao' : 'NDWI_Gao_' + str(statics)}, inplace = True)\n",
    "    else:\n",
    "        pass\n",
    "    if 'NDWI_Mc' in df_merged.columns.tolist():\n",
    "        df_merged.rename(columns={'NDWI_Mc' : 'NDWI_Mc_' + str(statics)}, inplace = True)\n",
    "    else:\n",
    "        pass\n",
    "    if 'MNDWI' in df_merged.columns.tolist():\n",
    "        df_merged.rename(columns={'MNDWI' : 'MNDWI_' + str(statics)}, inplace = True)\n",
    "    else:\n",
    "        pass\n",
    "    if 'K1' in df_merged.columns.tolist():\n",
    "        df_merged.rename(columns={'K1' : 'K1_' + str(statics)}, inplace = True)\n",
    "    else:\n",
    "        pass\n",
    "    if 'K2' in df_merged.columns.tolist():\n",
    "        df_merged.rename(columns={'K2' : 'K2_' + str(statics)}, inplace = True)\n",
    "    else:\n",
    "        pass\n",
    "    if 'C1' in df_merged.columns.tolist():\n",
    "        df_merged.rename(columns={'C1' : 'C1_' + str(statics)}, inplace = True)\n",
    "    else:\n",
    "        pass\n",
    "    if 'C2' in df_merged.columns.tolist():\n",
    "        df_merged.rename(columns={'C2' : 'C2_' + str(statics)}, inplace = True)\n",
    "    else:\n",
    "        pass\n",
    "                \n",
    "    df_merged = df_merged.groupby(['Date','Doy',file_name.value]).mean().reset_index()\n",
    "\n",
    "\n",
    "    df_merged.to_csv(folder.selected + '.csv')\n",
    "    \n",
    "    shutil.rmtree(folder_name, ignore_errors=True)\n",
    "\n",
    "\"\"\" \n",
    "Note that here, the merged file path cannot be the same as the single file path, and must be placed in different folders, \n",
    "so this time the following line of code is to output the files to another folder.\n",
    "\"\"\"\n"
   ]
  },
  {
   "cell_type": "code",
   "execution_count": 16,
   "id": "4cfbb214",
   "metadata": {},
   "outputs": [],
   "source": [
    "def zonal(statics):\n",
    "    time_list =monthlist(star.value, end.value)\n",
    "    for i in range(0,len(time_list)):\n",
    "        star_time = time.time()\n",
    "        \n",
    "        if os.path.isfile(folder_name +'LandsatSR_{}_{}.csv'.format(statics,time_list[i])) == True:\n",
    "                \n",
    "                continue\n",
    "            \n",
    "        else:\n",
    "            clear_output(wait=True)\n",
    "            Landsat = ee.ImageCollection('LANDSAT/LC08/C01/T1_SR') \\\n",
    "                      .filter(ee.Filter.date(time_list[i][0],datetime.strptime(time_list[i][1],\"%Y-%m-%d\")+ timedelta(days=1))) \\\n",
    "                      .filterBounds(states) \\\n",
    "                      .map(maskL8sr) \\\n",
    "                      .map(getNDVI) \\\n",
    "                      .map(getEVI) \\\n",
    "                      .map(getSAVI) \\\n",
    "                      .map(getNDWI1) \\\n",
    "                      .map(getNDWI2) \\\n",
    "                      .map(getNDWI3) \\\n",
    "                      .map(getK1) \\\n",
    "                      .map(getK2) \\\n",
    "                      .map(getC1) \\\n",
    "                      .map(getC2) \\\n",
    "                      .map(lambda image: image.clip(states)) \\\n",
    "                      .select(list(band_name.value))\n",
    "\n",
    "            Landsat = Landsat.toBands()\n",
    "            out_dir = os.path.expanduser(folder_name)\n",
    "            out_dem_stats = os.path.join(out_dir, 'LandsatSR_{}_{}.csv'.format(statics,time_list[i]))\n",
    "\n",
    "            if not os.path.exists(out_dir):\n",
    "                os.makedirs(out_dir)\n",
    "\n",
    "            geemap.zonal_statistics(Landsat, states, out_dem_stats, statistics_type=statics,scale=300)\n",
    "            data_temp = pd.read_csv(out_dem_stats)\n",
    "            column_name_list = data_temp.columns.tolist()\n",
    "            c = []\n",
    "            d = []\n",
    "            for k in zip(column_name_list[:]):\n",
    "                c.append(k[0][12:18])\n",
    "                d.append(k[0])\n",
    "            data = []\n",
    "            for j in range(0, len(column_name_list),len(band_name.value)):            \n",
    "                if all(m.isdigit() for m in c[j:j+len(band_name.value)]) == True:\n",
    "                        \n",
    "                    df = data_temp.loc[:,d[j:j+len(band_name.value)]]\n",
    "                    df[file_name.value] = data_temp.loc[:,[file_name.value]]\n",
    "                    text = column_name_list[j][12:20]\n",
    "                    df.insert(0, 'Date', '')\n",
    "                    df['Date'] = trans_date(text)\n",
    "                    df.insert(1, 'Doy', '')\n",
    "                    df['Doy'] = datetime.strptime(text, '%Y%m%d').strftime('%j')\n",
    "                    colnames=['Date','Doy']\n",
    "                    colnames.extend(list(band_name.value))\n",
    "                    colnames.append(file_name.value)\n",
    "                    df.columns=[colnames]\n",
    "                    data.append(df)\n",
    "                else:\n",
    "                    continue\n",
    "                        \n",
    "            appended_data = pd.concat(data, axis=0,ignore_index = True)\n",
    "            #cols = appended_data.columns.to_list()\n",
    "            #cols.insert(len(appended_data.columns), cols.pop(cols.index(file_name)))\n",
    "            #appended_data = appended_data[cols]\n",
    "            appended_data.to_csv(out_dem_stats,index=False)#Output the file with date and doy back\n",
    "            \n",
    "            end_time = time.time()\n",
    "            print(end_time - star_time)\n",
    "            time.sleep(1)"
   ]
  },
  {
   "cell_type": "code",
   "execution_count": 17,
   "id": "ea0c7657",
   "metadata": {},
   "outputs": [
    {
     "name": "stdout",
     "output_type": "stream",
     "text": [
      "Computing statistics ...\n",
      "Generating URL ...\n",
      "Downloading data from https://earthengine.googleapis.com/v1alpha/projects/earthengine-legacy/tables/73f2b9b5eea33535abcc1237746d9ee0-f6bc3465bf56afe2beb4ce463ec0846f:getFeatures\n",
      "Please wait ...\n",
      "Data downloaded to C:\\Users\\Yang Hsiu\\Downloads\\satellite python code-20220518T062225Z-001\\satellite python code\\zonal statistic\\data_all\\LandsatSR_MEAN_['2019-01-01', '2019-01-31'].csv\n",
      "107.1444251537323\n"
     ]
    }
   ],
   "source": [
    "zonal(statics.value)\n",
    "cbind(statics.value)"
   ]
  }
 ],
 "metadata": {
  "hide_input": false,
  "kernelspec": {
   "display_name": "Python 3 (ipykernel)",
   "language": "python",
   "name": "python3"
  },
  "language_info": {
   "codemirror_mode": {
    "name": "ipython",
    "version": 3
   },
   "file_extension": ".py",
   "mimetype": "text/x-python",
   "name": "python",
   "nbconvert_exporter": "python",
   "pygments_lexer": "ipython3",
   "version": "3.8.12"
  },
  "toc": {
   "base_numbering": 1,
   "nav_menu": {},
   "number_sections": true,
   "sideBar": true,
   "skip_h1_title": false,
   "title_cell": "Table of Contents",
   "title_sidebar": "Contents",
   "toc_cell": false,
   "toc_position": {},
   "toc_section_display": true,
   "toc_window_display": false
  }
 },
 "nbformat": 4,
 "nbformat_minor": 5
}
