{
 "cells": [
  {
   "cell_type": "code",
   "execution_count": 1,
   "id": "740b53d2",
   "metadata": {},
   "outputs": [],
   "source": [
    "import os\n",
    "import ee\n",
    "import geemap\n",
    "from pathlib import Path\n",
    "from datetime import datetime, timedelta , date\n",
    "import time\n",
    "import pandas as pd\n",
    "import csv\n",
    "import glob\n",
    "import folium\n",
    "from IPython.display import display, clear_output\n",
    "import shutil\n",
    "import shapefile\n",
    "import ipywidgets as widgets\n",
    "from tkinter import Tk, filedialog\n",
    "import traitlets\n",
    "from ipyfilechooser import FileChooser"
   ]
  },
  {
   "cell_type": "code",
   "execution_count": 2,
   "id": "5705a3a7",
   "metadata": {},
   "outputs": [],
   "source": [
    "class SelectFilesButton(widgets.Button):\n",
    "    \"\"\"A file widget that leverages tkinter.filedialog.\"\"\"\n",
    "\n",
    "    def __init__(self):\n",
    "        super(SelectFilesButton, self).__init__()\n",
    "        # Add the selected_files trait\n",
    "        self.add_traits(files=traitlets.traitlets.List())\n",
    "        # Create the button.\n",
    "        self.description = \"Select Files\"\n",
    "        self.icon = \"square-o\"\n",
    "        self.style.button_color = \"orange\"\n",
    "        # Set on click behavior.\n",
    "        self.on_click(self.select_files)\n",
    "\n",
    "    @staticmethod\n",
    "    def select_files(b):\n",
    "        \"\"\"Generate instance of tkinter.filedialog.\n",
    "\n",
    "        Parameters\n",
    "        ----------\n",
    "        b : obj:\n",
    "            An instance of ipywidgets.widgets.Button \n",
    "        \"\"\"\n",
    "        # Create Tk root\n",
    "        root = Tk()\n",
    "        # Hide the main window\n",
    "        root.withdraw()\n",
    "        # Raise the root to the top of all windows.\n",
    "        root.call('wm', 'attributes', '.', '-topmost', True)\n",
    "        # List of selected fileswill be set to b.value\n",
    "        b.files = filedialog.askopenfilename(multiple=True,filetypes=[('shp','.shp')])\n",
    "\n",
    "        b.description = \"Files Selected\"\n",
    "        b.icon = \"check-square-o\"\n",
    "        b.style.button_color = \"lightgreen\""
   ]
  },
  {
   "cell_type": "code",
   "execution_count": 3,
   "id": "fbc26210",
   "metadata": {},
   "outputs": [],
   "source": [
    "# After executing this line of code for the first use, you can get the authentication number linked to Google.\n",
    "Map = geemap.Map()\n",
    "# Authenticate the Google earth engine with google account\n",
    "ee.Initialize() "
   ]
  },
  {
   "cell_type": "code",
   "execution_count": 4,
   "id": "f40f0cd7",
   "metadata": {},
   "outputs": [
    {
     "data": {
      "application/vnd.jupyter.widget-view+json": {
       "model_id": "c947b80975694ede9bc8ff523b2a4ad9",
       "version_major": 2,
       "version_minor": 0
      },
      "text/plain": [
       "SelectFilesButton(description='Select Files', icon='square-o', style=ButtonStyle(button_color='orange'))"
      ]
     },
     "metadata": {},
     "output_type": "display_data"
    }
   ],
   "source": [
    "# give the shp file\n",
    "my_button = SelectFilesButton()\n",
    "my_button # This will display the button in the context of Jupyter Notebook"
   ]
  },
  {
   "cell_type": "code",
   "execution_count": 5,
   "id": "1e0a3b79",
   "metadata": {},
   "outputs": [
    {
     "data": {
      "application/vnd.jupyter.widget-view+json": {
       "model_id": "6fd225deda1a462285a30dd3f8b814a1",
       "version_major": 2,
       "version_minor": 0
      },
      "text/plain": [
       "Dropdown(description='Regional category', options=('DeletionFlag', 'Shape_Leng', 'Shape_Area', 'ID'), value='D…"
      ]
     },
     "metadata": {},
     "output_type": "display_data"
    }
   ],
   "source": [
    "shp = shapefile.Reader(\"\".join(my_button.files))\n",
    "b = []\n",
    "for i in range(len(shp.fields)):\n",
    "    a = shp.fields[i][0]\n",
    "    b.append(a)\n",
    "\n",
    "# give the shapefile name\n",
    "\n",
    "file_name = widgets.Dropdown(\n",
    "options=b,\n",
    "description='Regional category')\n",
    "\n",
    "file_name"
   ]
  },
  {
   "cell_type": "code",
   "execution_count": 6,
   "id": "ce068956",
   "metadata": {},
   "outputs": [
    {
     "data": {
      "application/vnd.jupyter.widget-view+json": {
       "model_id": "2ab2e95fdb774f90a5dc5000f1b80597",
       "version_major": 2,
       "version_minor": 0
      },
      "text/plain": [
       "HBox(children=(DatePicker(value=None, description='Pick a Star Date'), DatePicker(value=None, description='Pic…"
      ]
     },
     "metadata": {},
     "output_type": "display_data"
    }
   ],
   "source": [
    "# give the star date and end date\n",
    "\n",
    "star = widgets.DatePicker(\n",
    "    description='Pick a Star Date',\n",
    "    disabled=False\n",
    ")\n",
    "end = widgets.DatePicker(\n",
    "    description='Pick a End Date',\n",
    "    disabled=False\n",
    ")\n",
    "\n",
    "widgets.HBox([star, end])"
   ]
  },
  {
   "cell_type": "code",
   "execution_count": 7,
   "id": "65cfbc35",
   "metadata": {},
   "outputs": [
    {
     "data": {
      "application/vnd.jupyter.widget-view+json": {
       "model_id": "a1431e260f6b40ccaba125a816e24eb1",
       "version_major": 2,
       "version_minor": 0
      },
      "text/plain": [
       "SelectMultiple(description='Band', options=('Air_2m_T_C_mean', 'Air_2m_T_C_min', 'Air_2m_T_C_max', 'dewpoint_2…"
      ]
     },
     "metadata": {},
     "output_type": "display_data"
    }
   ],
   "source": [
    "# give the bands\n",
    "#\n",
    "band_name = widgets.SelectMultiple(\n",
    "options=['Air_2m_T_C_mean','Air_2m_T_C_min','Air_2m_T_C_max','dewpoint_2m_C','RH','mean_2m_air_temperature','minimum_2m_air_temperature',\n",
    "        'maximum_2m_air_temperature','dewpoint_2m_temperature','total_precipitation','surface_pressure','mean_sea_level_pressure',\n",
    "        'u_component_of_wind_10m','v_component_of_wind_10m'],\n",
    "description='Band',\n",
    ")\n",
    "\n",
    "band_name"
   ]
  },
  {
   "cell_type": "code",
   "execution_count": 8,
   "id": "be9189f9",
   "metadata": {},
   "outputs": [
    {
     "data": {
      "application/vnd.jupyter.widget-view+json": {
       "model_id": "ea24ab4eb3c5478fa91e46a76257b6e7",
       "version_major": 2,
       "version_minor": 0
      },
      "text/plain": [
       "Dropdown(description='Statistics', options=('MEAN', 'MAXIMUM', 'MINIMUM', 'MEDIAN', 'STD', 'VARIANCE', 'SUM'),…"
      ]
     },
     "metadata": {},
     "output_type": "display_data"
    }
   ],
   "source": [
    "statics =widgets.Dropdown(\n",
    "    options=['MEAN','MAXIMUM', 'MINIMUM', 'MEDIAN', 'STD', 'VARIANCE', 'SUM'],\n",
    "    value='MEAN',\n",
    "    description='Statistics')\n",
    "\n",
    "statics"
   ]
  },
  {
   "cell_type": "code",
   "execution_count": 9,
   "id": "a1db234a",
   "metadata": {},
   "outputs": [
    {
     "data": {
      "application/vnd.jupyter.widget-view+json": {
       "model_id": "1a3e937e792f4efdab5ffd71d19ea01d",
       "version_major": 2,
       "version_minor": 0
      },
      "text/plain": [
       "FileChooser(path='C:\\Users\\Yang Hsiu\\Downloads\\satellite python code-20220518T062225Z-001\\satellite python cod…"
      ]
     },
     "metadata": {},
     "output_type": "display_data"
    }
   ],
   "source": [
    "# give the output floder and flie name\n",
    "folder = FileChooser()\n",
    "display(folder)"
   ]
  },
  {
   "cell_type": "code",
   "execution_count": 10,
   "id": "018125d0",
   "metadata": {},
   "outputs": [],
   "source": [
    "# create folder\n",
    "folder_name = 'data_all'\n",
    "\n",
    "# create folder name : data_all\n",
    "if os.path.isdir(folder_name) == True:\n",
    "    shutil.rmtree(folder_name, ignore_errors=True)\n",
    "    os.makedirs(folder_name)\n",
    "else:\n",
    "    os.makedirs(folder_name)\n"
   ]
  },
  {
   "cell_type": "code",
   "execution_count": 11,
   "id": "12a189f3",
   "metadata": {},
   "outputs": [],
   "source": [
    "states = geemap.shp_to_ee(\"\".join(my_button.files))\n",
    "\n",
    "def last_day_of_month(any_day):\n",
    "    next_month = any_day.replace(day=28) + timedelta(days=4)  # this will never fail\n",
    "    return next_month - timedelta(days=next_month.day)\n",
    "\n",
    "def monthlist(begin,end):\n",
    "    #begin = datetime.datetime.strptime(begin, \"%Y-%m-%d\")\n",
    "    #end = datetime.datetime.strptime(end, \"%Y-%m-%d\")\n",
    "\n",
    "    result = []\n",
    "    while True:\n",
    "        if begin.month == 12:\n",
    "            next_month = begin.replace(year=begin.year+1,month=1, day=1)\n",
    "        else:\n",
    "            next_month = begin.replace(month=begin.month+1, day=1)\n",
    "        if next_month > end:\n",
    "            break\n",
    "        result.append ([begin.strftime(\"%Y-%m-%d\"),last_day_of_month(begin).strftime(\"%Y-%m-%d\")])\n",
    "        begin = next_month\n",
    "    result.append ([begin.strftime(\"%Y-%m-%d\"),end.strftime(\"%Y-%m-%d\")])\n",
    "    return result\n",
    "\n",
    "\n",
    "def last_day_of_year(any_day):\n",
    "    next_year = any_day.replace(year=any_day.year, month=12, day = 31)  # this will never fail\n",
    "    return next_year\n",
    "\n",
    "def yearlist(begin,end):\n",
    "    #begin = datetime.datetime.strptime(begin, \"%Y-%m-%d\")\n",
    "    #end = datetime.datetime.strptime(end, \"%Y-%m-%d\")\n",
    "\n",
    "    result = []\n",
    "    while True:\n",
    "        if begin.year < end.year:\n",
    "            next_year = begin.replace(year=begin.year+1,month=1, day=1)\n",
    "        else:\n",
    "            next_year = end\n",
    "        if next_year == end:\n",
    "            break\n",
    "        result.append ([begin.strftime(\"%Y-%m-%d\"),last_day_of_year(begin).strftime(\"%Y-%m-%d\")])\n",
    "        begin = next_year\n",
    "    result.append ([begin.strftime(\"%Y-%m-%d\"),end.strftime(\"%Y-%m-%d\")])\n",
    "    return result\n",
    "\n",
    "\n",
    "def trans_date(input_date):\n",
    "    t1 = input_date\n",
    "    t2 = datetime.strptime(t1, '%Y%m%d').strftime('%Y/%m/%d')\n",
    "    return t2"
   ]
  },
  {
   "cell_type": "code",
   "execution_count": 12,
   "id": "28070c84",
   "metadata": {},
   "outputs": [
    {
     "data": {
      "text/plain": [
       "' \\nNote that here, the merged file path cannot be the same as the single file path, and must be placed in different folders, \\nso this time the following line of code is to output the files to another folder.\\n'"
      ]
     },
     "execution_count": 12,
     "metadata": {},
     "output_type": "execute_result"
    }
   ],
   "source": [
    "def getC_air_mean(image):\n",
    "    \n",
    "    Air_2m_T_C_mean = image.expression(\n",
    "      'T - 273.15',{\n",
    "      'T' : image.select('mean_2m_air_temperature')}).rename('Air_2m_T_C_mean');\n",
    "    \n",
    "    return image.addBands(Air_2m_T_C_mean)\n",
    "\n",
    "def getC_air_min(image):\n",
    "    \n",
    "    Air_2m_T_C_min = image.expression(\n",
    "      'T - 273.15',{\n",
    "      'T' : image.select('minimum_2m_air_temperature')}).rename('Air_2m_T_C_min');\n",
    "    \n",
    "    return image.addBands(Air_2m_T_C_min)\n",
    "\n",
    "def getC_air_max(image):\n",
    "    \n",
    "    Air_2m_T_C_max = image.expression(\n",
    "      'T - 273.15',{\n",
    "      'T' : image.select('maximum_2m_air_temperature')}).rename('Air_2m_T_C_max');\n",
    "    \n",
    "    return image.addBands(Air_2m_T_C_max)\n",
    "\n",
    "\n",
    "def getC_dewpoint(image):\n",
    "    \n",
    "    dewpoint_2m_temperature_C = image.expression(\n",
    "      'T - 273.15',{\n",
    "      'T' : image.select('dewpoint_2m_temperature')}).rename('dewpoint_2m_C');\n",
    "    \n",
    "    return image.addBands(dewpoint_2m_temperature_C)\n",
    "\n",
    "def getRH(image):\n",
    "    \n",
    "    RH = image.expression(\n",
    "      '100 * (exp((17.625 * Td)/(243.04 + Td))/exp((17.625*T)/(243.04 + T)))',{\n",
    "      'Td' : image.select('dewpoint_2m_temperature').add(-273.15),\n",
    "      'T' : image.select('mean_2m_air_temperature').add(-273.15)}).rename('RH');\n",
    "    \n",
    "    return image.addBands(RH)\n",
    "\n",
    "def cbind(statics):\n",
    "\n",
    "    all_files = glob.glob(os.path.join(folder_name,\"era5_{}*.csv\".format(statics)))\n",
    "\n",
    "    df_from_each_file = (pd.read_csv(f, sep = \",\") for f in all_files)\n",
    "    df_merged = pd.concat(df_from_each_file, ignore_index = True)\n",
    "    if 'Air_2m_T_C_mean' in df_merged.columns.tolist():\n",
    "        df_merged.rename(columns={'Air_2m_T_C_mean' : 'Air_2m_T_C_mean_' + str(statics)}, inplace = True)\n",
    "    else:\n",
    "        pass\n",
    "    if 'Air_2m_T_C_min' in df_merged.columns.tolist():\n",
    "        df_merged.rename(columns={'Air_2m_T_C_min' : 'Air_2m_T_C_min_' + str(statics)}, inplace = True)\n",
    "    else:\n",
    "        pass\n",
    "    if 'Air_2m_T_C_max' in df_merged.columns.tolist():\n",
    "        df_merged.rename(columns={'Air_2m_T_C_max' : 'Air_2m_T_C_max_' + str(statics)}, inplace = True)\n",
    "    else:\n",
    "        pass\n",
    "    if 'dewpoint_2m_C' in df_merged.columns.tolist():\n",
    "        df_merged.rename(columns={'dewpoint_2m_C' : 'dewpoint_2m_C_' + str(statics)}, inplace = True)\n",
    "    else:\n",
    "        pass\n",
    "    if 'RH' in df_merged.columns.tolist():\n",
    "        df_merged.rename(columns={'RH' : 'RH_' + str(statics)}, inplace = True)\n",
    "    else:\n",
    "        pass\n",
    "    if 'mean_2m_air_temperature' in df_merged.columns.tolist():\n",
    "        df_merged.rename(columns={'mean_2m_air_temperature' : 'mean_2m_air_temperature_' + str(statics)}, inplace = True)\n",
    "    else:\n",
    "        pass\n",
    "    if 'minimum_2m_air_temperature' in df_merged.columns.tolist():\n",
    "        df_merged.rename(columns={'minimum_2m_air_temperature' : 'minimum_2m_air_temperature_' + str(statics)}, inplace = True)\n",
    "    else:\n",
    "        pass\n",
    "    if 'maximum_2m_air_temperature' in df_merged.columns.tolist():\n",
    "        df_merged.rename(columns={'maximum_2m_air_temperature' : 'maximum_2m_air_temperature_' + str(statics)}, inplace = True)\n",
    "    else:\n",
    "        pass\n",
    "    if 'dewpoint_2m_temperature' in df_merged.columns.tolist():\n",
    "        df_merged.rename(columns={'dewpoint_2m_temperature' : 'dewpoint_2m_temperature_' + str(statics)}, inplace = True)\n",
    "    else:\n",
    "        pass\n",
    "    if 'total_precipitation' in df_merged.columns.tolist():\n",
    "        df_merged.rename(columns={'total_precipitation' : 'total_precipitation_' + str(statics)}, inplace = True)\n",
    "    else:\n",
    "        pass\n",
    "    if 'surface_pressure' in df_merged.columns.tolist():\n",
    "        df_merged.rename(columns={'surface_pressure' : 'surface_pressure_' + str(statics)}, inplace = True)\n",
    "    else:\n",
    "        pass\n",
    "    if 'mean_sea_level_pressure' in df_merged.columns.tolist():\n",
    "        df_merged.rename(columns={'mean_sea_level_pressure' : 'mean_sea_level_pressure_' + str(statics)}, inplace = True)\n",
    "    else:\n",
    "        pass\n",
    "    if 'u_component_of_wind_10m' in df_merged.columns.tolist():\n",
    "        df_merged.rename(columns={'u_component_of_wind_10m' : 'u_component_of_wind_10m_' + str(statics)}, inplace = True)\n",
    "    else:\n",
    "        pass\n",
    "    if 'v_component_of_wind_10m' in df_merged.columns.tolist():\n",
    "        df_merged.rename(columns={'v_component_of_wind_10m' : 'v_component_of_wind_10m_' + str(statics)}, inplace = True)\n",
    "    else:\n",
    "        pass\n",
    "\n",
    "    df_merged.to_csv(folder.selected + '.csv')\n",
    "    \n",
    "    shutil.rmtree(folder_name, ignore_errors=True)\n",
    "\n",
    "\"\"\" \n",
    "Note that here, the merged file path cannot be the same as the single file path, and must be placed in different folders, \n",
    "so this time the following line of code is to output the files to another folder.\n",
    "\"\"\"\n"
   ]
  },
  {
   "cell_type": "code",
   "execution_count": 13,
   "id": "1b6d67fb",
   "metadata": {},
   "outputs": [],
   "source": [
    "def zonal(statics):\n",
    "    time_list =monthlist(star.value, end.value)\n",
    "    for i in range(0,len(time_list)):\n",
    "        star_time = time.time()\n",
    "        \n",
    "        if os.path.isfile(folder_name +'era5_{}_{}.csv'.format(statics,time_list[i])) == True:\n",
    "                \n",
    "                continue\n",
    "            \n",
    "        else:\n",
    "            clear_output(wait=True)\n",
    "            \n",
    "            era5 = ee.ImageCollection(\"ECMWF/ERA5/DAILY\") \\\n",
    "                  .filter(ee.Filter.date(time_list[i][0],datetime.strptime(time_list[i][1],\"%Y-%m-%d\")+ timedelta(days=1))) \\\n",
    "                  .filterBounds(states) \\\n",
    "                  .map(getRH) \\\n",
    "                  .map(getC_air_mean) \\\n",
    "                  .map(getC_air_min) \\\n",
    "                  .map(getC_air_max) \\\n",
    "                  .map(getC_dewpoint) \\\n",
    "                  .select(list(band_name.value)) \\\n",
    "                  .map(lambda image: image.clip(states))\n",
    "\n",
    "\n",
    "            era5 = era5.toBands()\n",
    "            \n",
    "            out_dir = os.path.expanduser(folder_name)\n",
    "            out_dem_stats = os.path.join(out_dir, 'era5_{}_{}.csv'.format(statics,time_list[i]))\n",
    "\n",
    "            if not os.path.exists(out_dir):\n",
    "                os.makedirs(out_dir)\n",
    "\n",
    "            geemap.zonal_statistics(era5, states, out_dem_stats, statistics_type=statics, scale=1000)\n",
    "            \n",
    "            data_temp = pd.read_csv(out_dem_stats)\n",
    "            column_name_list = data_temp.columns.tolist()\n",
    "            c = []\n",
    "            d = []\n",
    "            for k in zip(column_name_list[:]):\n",
    "                c.append(k[0][0:8])\n",
    "                d.append(k[0])\n",
    "                \n",
    "            data = []\n",
    "            for j in range(0, len(column_name_list),len(band_name.value)):            \n",
    "                if all(m.isdigit() for m in c[j:j+len(band_name.value)]) == True:\n",
    "                        \n",
    "                    df = data_temp.loc[:,d[j:j+len(band_name.value)]]\n",
    "                    df[file_name.value] = data_temp.loc[:,[file_name.value]]\n",
    "                    text = column_name_list[j][0:8]\n",
    "                    df.insert(0, 'Date', '')\n",
    "                    df['Date'] = trans_date(text)\n",
    "                    df.insert(1, 'Doy', '')\n",
    "                    df['Doy'] = datetime.strptime(text, '%Y%m%d').strftime('%j')\n",
    "                    colnames=['Date','Doy']\n",
    "                    colnames.extend(list(band_name.value))\n",
    "                    colnames.append(file_name.value)\n",
    "                    df.columns=[colnames]\n",
    "                    data.append(df)\n",
    "                else:\n",
    "                    continue\n",
    "            appended_data = pd.concat(data, axis=0,ignore_index = True)\n",
    "            #cols = appended_data.columns.to_list()\n",
    "            #cols.insert(len(appended_data.columns), cols.pop(cols.index(file_name)))\n",
    "            #appended_data = appended_data[cols]\n",
    "                \n",
    "            appended_data.to_csv(out_dem_stats,index=False)#Output the file with date and doy back\n",
    "            \n",
    "            end_time = time.time()\n",
    "            print(end_time - star_time)\n",
    "            time.sleep(1)"
   ]
  },
  {
   "cell_type": "code",
   "execution_count": null,
   "id": "0810d319",
   "metadata": {},
   "outputs": [
    {
     "name": "stdout",
     "output_type": "stream",
     "text": [
      "Computing statistics ...\n",
      "Generating URL ...\n"
     ]
    }
   ],
   "source": [
    "zonal(statics.value)\n",
    "cbind(statics.value)"
   ]
  }
 ],
 "metadata": {
  "hide_input": false,
  "kernelspec": {
   "display_name": "Python 3 (ipykernel)",
   "language": "python",
   "name": "python3"
  },
  "language_info": {
   "codemirror_mode": {
    "name": "ipython",
    "version": 3
   },
   "file_extension": ".py",
   "mimetype": "text/x-python",
   "name": "python",
   "nbconvert_exporter": "python",
   "pygments_lexer": "ipython3",
   "version": "3.8.12"
  },
  "toc": {
   "base_numbering": 1,
   "nav_menu": {},
   "number_sections": true,
   "sideBar": true,
   "skip_h1_title": false,
   "title_cell": "Table of Contents",
   "title_sidebar": "Contents",
   "toc_cell": false,
   "toc_position": {},
   "toc_section_display": true,
   "toc_window_display": false
  }
 },
 "nbformat": 4,
 "nbformat_minor": 5
}
